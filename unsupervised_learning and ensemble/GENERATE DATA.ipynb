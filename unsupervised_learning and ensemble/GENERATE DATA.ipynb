{
 "cells": [
  {
   "cell_type": "code",
   "execution_count": 6,
   "metadata": {},
   "outputs": [],
   "source": [
    "import word_list_synonyms\n",
    "list1=get_synonym_list()\n",
    "import pandas as pd\n",
    "df=pd.read_excel('C:\\\\Users\\\\dell\\\\Downloads\\\\Thesis\\\\bipolardatafinal.xlsx')\n",
    "list_cases=list(df['Cases'])\n",
    "list_labels=list(df['Diagnosis'])\n",
    "count1=0\n",
    "list_cases_numerical=[]\n",
    "x1=[]\n",
    "x2=[]\n",
    "x3=[]\n",
    "for j in range(0,len(list_cases)):\n",
    "    for i in range(0,len(list1)):\n",
    "        if (list_cases[j].find(list1[i])!=-1):\n",
    "            count1++\n",
    "    list_cases_numerical.append(count1)\n",
    "if (list_cases_numerical[i]<=25:):\n",
    "    x1.append(list_cases_numerical[i])\n",
    "elif (list_cases_numerical[i]>=25 and list_cases_numerical[i]<50):\n",
    "    x2.append(list_cases_numerical[i])\n",
    "else:\n",
    "    x3.append(list_cases_numerical[i])"
   ]
  }
 ],
 "metadata": {
  "kernelspec": {
   "display_name": "Python 3",
   "language": "python",
   "name": "python3"
  },
  "language_info": {
   "codemirror_mode": {
    "name": "ipython",
    "version": 3
   },
   "file_extension": ".py",
   "mimetype": "text/x-python",
   "name": "python",
   "nbconvert_exporter": "python",
   "pygments_lexer": "ipython3",
   "version": "3.7.4"
  }
 },
 "nbformat": 4,
 "nbformat_minor": 2
}
