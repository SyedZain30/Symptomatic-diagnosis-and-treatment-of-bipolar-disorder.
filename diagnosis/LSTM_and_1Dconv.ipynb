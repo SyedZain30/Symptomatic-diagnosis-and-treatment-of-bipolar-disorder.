{
  "nbformat": 4,
  "nbformat_minor": 0,
  "metadata": {
    "kernelspec": {
      "display_name": "Python 3",
      "language": "python",
      "name": "python3"
    },
    "language_info": {
      "codemirror_mode": {
        "name": "ipython",
        "version": 3
      },
      "file_extension": ".py",
      "mimetype": "text/x-python",
      "name": "python",
      "nbconvert_exporter": "python",
      "pygments_lexer": "ipython3",
      "version": "3.7.4"
    },
    "colab": {
      "name": "LSTM and 1Dconv.ipynb",
      "provenance": [],
      "collapsed_sections": []
    }
  },
  "cells": [
    {
      "cell_type": "markdown",
      "metadata": {
        "id": "t239bL-s4VKN"
      },
      "source": [
        "# Pakistani EDA"
      ]
    },
    {
      "cell_type": "code",
      "metadata": {
        "id": "zTf2u62t4VKW"
      },
      "source": [
        "import numpy as np\n",
        "import pandas as pd\n",
        "import sklearn.preprocessing \n",
        "import matplotlib.pyplot as plt\n",
        "import seaborn as sns\n",
        "%matplotlib inline\n",
        "import string\n",
        "import nltk\n",
        "from nltk.corpus import stopwords\n",
        "from textblob import Word\n",
        "from sklearn.preprocessing import LabelEncoder\n",
        "from collections import Counter\n",
        "import wordcloud\n",
        "from sklearn.metrics import classification_report,confusion_matrix,accuracy_score\n",
        "from keras.models import Sequential\n",
        "from keras.preprocessing.text import Tokenizer\n",
        "from keras.preprocessing.sequence import pad_sequences\n",
        "from keras.layers import Dense, Embedding, LSTM, SpatialDropout1D\n",
        "from sklearn.model_selection import train_test_split \n",
        "from keras.utils import np_utils\n",
        "from keras.layers.convolutional import Conv1D\n",
        "from keras.layers.convolutional import MaxPooling1D\n",
        "sns.set()"
      ],
      "execution_count": 25,
      "outputs": []
    },
    {
      "cell_type": "code",
      "metadata": {
        "colab": {
          "base_uri": "https://localhost:8080/"
        },
        "id": "h5Chhv7G4kq4",
        "outputId": "930e69db-40c3-4c6e-a7a8-5c577e6d92d8"
      },
      "source": [
        "from google.colab import drive\n",
        "drive.mount('/content/drive')"
      ],
      "execution_count": 26,
      "outputs": [
        {
          "output_type": "stream",
          "name": "stdout",
          "text": [
            "Drive already mounted at /content/drive; to attempt to forcibly remount, call drive.mount(\"/content/drive\", force_remount=True).\n"
          ]
        }
      ]
    },
    {
      "cell_type": "code",
      "metadata": {
        "id": "s5eM1ajH4VKY"
      },
      "source": [
        "df=pd.read_excel(\"/content/drive/MyDrive/Colab Notebooks/Thesis/Bpd.xlsx\") "
      ],
      "execution_count": 27,
      "outputs": []
    },
    {
      "cell_type": "code",
      "metadata": {
        "colab": {
          "base_uri": "https://localhost:8080/",
          "height": 206
        },
        "id": "7JBsYJrC4VKZ",
        "outputId": "b226e24d-2a9c-4071-842b-13c99e01cb70"
      },
      "source": [
        "df.head()"
      ],
      "execution_count": 28,
      "outputs": [
        {
          "output_type": "execute_result",
          "data": {
            "text/html": [
              "<div>\n",
              "<style scoped>\n",
              "    .dataframe tbody tr th:only-of-type {\n",
              "        vertical-align: middle;\n",
              "    }\n",
              "\n",
              "    .dataframe tbody tr th {\n",
              "        vertical-align: top;\n",
              "    }\n",
              "\n",
              "    .dataframe thead th {\n",
              "        text-align: right;\n",
              "    }\n",
              "</style>\n",
              "<table border=\"1\" class=\"dataframe\">\n",
              "  <thead>\n",
              "    <tr style=\"text-align: right;\">\n",
              "      <th></th>\n",
              "      <th>Cases</th>\n",
              "      <th>Diagnosis</th>\n",
              "      <th>Mood-Stabilizer</th>\n",
              "      <th>Antipsychotic</th>\n",
              "      <th>Sleeping pills</th>\n",
              "    </tr>\n",
              "  </thead>\n",
              "  <tbody>\n",
              "    <tr>\n",
              "      <th>0</th>\n",
              "      <td>Patient displayed aggressive and violent behav...</td>\n",
              "      <td>Bipolar I</td>\n",
              "      <td>Lithium</td>\n",
              "      <td>Seroquel</td>\n",
              "      <td>Rivotril</td>\n",
              "    </tr>\n",
              "    <tr>\n",
              "      <th>1</th>\n",
              "      <td>The patient exhibited aggressive and violent b...</td>\n",
              "      <td>Bipolar I</td>\n",
              "      <td>Lithium</td>\n",
              "      <td>Seroquel</td>\n",
              "      <td>Rivotril</td>\n",
              "    </tr>\n",
              "    <tr>\n",
              "      <th>2</th>\n",
              "      <td>The patient had ADHD like systems and extremel...</td>\n",
              "      <td>Bipolar I</td>\n",
              "      <td>Lithium</td>\n",
              "      <td>Seroquel</td>\n",
              "      <td>Rivotril</td>\n",
              "    </tr>\n",
              "    <tr>\n",
              "      <th>3</th>\n",
              "      <td>The patient lacks the attention span and obser...</td>\n",
              "      <td>Bipolar I</td>\n",
              "      <td>Lithium</td>\n",
              "      <td>Seroquel</td>\n",
              "      <td>Rivotril</td>\n",
              "    </tr>\n",
              "    <tr>\n",
              "      <th>4</th>\n",
              "      <td>The patient showed several inability to focus ...</td>\n",
              "      <td>Bipolar I</td>\n",
              "      <td>Lithium</td>\n",
              "      <td>Seroquel</td>\n",
              "      <td>Rivotril</td>\n",
              "    </tr>\n",
              "  </tbody>\n",
              "</table>\n",
              "</div>"
            ],
            "text/plain": [
              "                                               Cases  ... Sleeping pills\n",
              "0  Patient displayed aggressive and violent behav...  ...       Rivotril\n",
              "1  The patient exhibited aggressive and violent b...  ...       Rivotril\n",
              "2  The patient had ADHD like systems and extremel...  ...       Rivotril\n",
              "3  The patient lacks the attention span and obser...  ...       Rivotril\n",
              "4  The patient showed several inability to focus ...  ...       Rivotril\n",
              "\n",
              "[5 rows x 5 columns]"
            ]
          },
          "metadata": {},
          "execution_count": 28
        }
      ]
    },
    {
      "cell_type": "code",
      "metadata": {
        "colab": {
          "base_uri": "https://localhost:8080/",
          "height": 206
        },
        "id": "g1Vrfing4VKb",
        "outputId": "6d392c6f-b0db-414f-a887-2cdfe9fffcdb"
      },
      "source": [
        "df.tail()"
      ],
      "execution_count": 29,
      "outputs": [
        {
          "output_type": "execute_result",
          "data": {
            "text/html": [
              "<div>\n",
              "<style scoped>\n",
              "    .dataframe tbody tr th:only-of-type {\n",
              "        vertical-align: middle;\n",
              "    }\n",
              "\n",
              "    .dataframe tbody tr th {\n",
              "        vertical-align: top;\n",
              "    }\n",
              "\n",
              "    .dataframe thead th {\n",
              "        text-align: right;\n",
              "    }\n",
              "</style>\n",
              "<table border=\"1\" class=\"dataframe\">\n",
              "  <thead>\n",
              "    <tr style=\"text-align: right;\">\n",
              "      <th></th>\n",
              "      <th>Cases</th>\n",
              "      <th>Diagnosis</th>\n",
              "      <th>Mood-Stabilizer</th>\n",
              "      <th>Antipsychotic</th>\n",
              "      <th>Sleeping pills</th>\n",
              "    </tr>\n",
              "  </thead>\n",
              "  <tbody>\n",
              "    <tr>\n",
              "      <th>145</th>\n",
              "      <td>The patient experienced extreme mood swings, c...</td>\n",
              "      <td>BipolarII</td>\n",
              "      <td>Epival</td>\n",
              "      <td>Risperidone</td>\n",
              "      <td>None</td>\n",
              "    </tr>\n",
              "    <tr>\n",
              "      <th>146</th>\n",
              "      <td>The patient beat his family in a crazy frenzy,...</td>\n",
              "      <td>BipolarII</td>\n",
              "      <td>Epival</td>\n",
              "      <td>Risperidone</td>\n",
              "      <td>None</td>\n",
              "    </tr>\n",
              "    <tr>\n",
              "      <th>147</th>\n",
              "      <td>The patient was addicted to drugs in a manic p...</td>\n",
              "      <td>BipolarII</td>\n",
              "      <td>Epival</td>\n",
              "      <td>Risperidone</td>\n",
              "      <td>None</td>\n",
              "    </tr>\n",
              "    <tr>\n",
              "      <th>148</th>\n",
              "      <td>The patient lived in isolation, playing video ...</td>\n",
              "      <td>BipolarII</td>\n",
              "      <td>Epival</td>\n",
              "      <td>Risperidone</td>\n",
              "      <td>None</td>\n",
              "    </tr>\n",
              "    <tr>\n",
              "      <th>149</th>\n",
              "      <td>The patient violently attacked a classmate dur...</td>\n",
              "      <td>BipolarII</td>\n",
              "      <td>Epival</td>\n",
              "      <td>Risperidone</td>\n",
              "      <td>None</td>\n",
              "    </tr>\n",
              "  </tbody>\n",
              "</table>\n",
              "</div>"
            ],
            "text/plain": [
              "                                                 Cases  ... Sleeping pills\n",
              "145  The patient experienced extreme mood swings, c...  ...           None\n",
              "146  The patient beat his family in a crazy frenzy,...  ...           None\n",
              "147  The patient was addicted to drugs in a manic p...  ...           None\n",
              "148  The patient lived in isolation, playing video ...  ...           None\n",
              "149  The patient violently attacked a classmate dur...  ...           None\n",
              "\n",
              "[5 rows x 5 columns]"
            ]
          },
          "metadata": {},
          "execution_count": 29
        }
      ]
    },
    {
      "cell_type": "code",
      "metadata": {
        "colab": {
          "base_uri": "https://localhost:8080/"
        },
        "id": "-YILxmnk4VKc",
        "outputId": "fa95a9e2-e70f-43f0-a2e7-1379d117d0df"
      },
      "source": [
        "df['Diagnosis'].value_counts()"
      ],
      "execution_count": 30,
      "outputs": [
        {
          "output_type": "execute_result",
          "data": {
            "text/plain": [
              "BipolarII    75\n",
              "Bipolar I    75\n",
              "Name: Diagnosis, dtype: int64"
            ]
          },
          "metadata": {},
          "execution_count": 30
        }
      ]
    },
    {
      "cell_type": "code",
      "metadata": {
        "colab": {
          "base_uri": "https://localhost:8080/"
        },
        "id": "T0DSAJKm4VKd",
        "outputId": "f2274bd4-acb9-48b1-8b08-c4200086b60e"
      },
      "source": [
        "df['Mood-Stabilizer'].value_counts()"
      ],
      "execution_count": 31,
      "outputs": [
        {
          "output_type": "execute_result",
          "data": {
            "text/plain": [
              "Lithium    75\n",
              "Epival     75\n",
              "Name: Mood-Stabilizer, dtype: int64"
            ]
          },
          "metadata": {},
          "execution_count": 31
        }
      ]
    },
    {
      "cell_type": "code",
      "metadata": {
        "colab": {
          "base_uri": "https://localhost:8080/"
        },
        "id": "--Ur5qa34VKe",
        "outputId": "d789ad4c-ba10-4c6d-f5af-7de074cff9e9"
      },
      "source": [
        "df['Antipsychotic'].value_counts()"
      ],
      "execution_count": 32,
      "outputs": [
        {
          "output_type": "execute_result",
          "data": {
            "text/plain": [
              "Risperidone    75\n",
              "Seroquel       75\n",
              "Name: Antipsychotic, dtype: int64"
            ]
          },
          "metadata": {},
          "execution_count": 32
        }
      ]
    },
    {
      "cell_type": "code",
      "metadata": {
        "colab": {
          "base_uri": "https://localhost:8080/"
        },
        "id": "Ksb5tjrp4VKf",
        "outputId": "5b22655c-0340-4c9d-9402-21f6fec47f6c"
      },
      "source": [
        "df.dtypes"
      ],
      "execution_count": 33,
      "outputs": [
        {
          "output_type": "execute_result",
          "data": {
            "text/plain": [
              "Cases              object\n",
              "Diagnosis          object\n",
              "Mood-Stabilizer    object\n",
              "Antipsychotic      object\n",
              "Sleeping pills     object\n",
              "dtype: object"
            ]
          },
          "metadata": {},
          "execution_count": 33
        }
      ]
    },
    {
      "cell_type": "code",
      "metadata": {
        "colab": {
          "base_uri": "https://localhost:8080/"
        },
        "id": "QVnrttpC4VKg",
        "outputId": "e71496d8-f904-4e94-c8ea-e9e0fb077f5b"
      },
      "source": [
        "df.shape"
      ],
      "execution_count": 34,
      "outputs": [
        {
          "output_type": "execute_result",
          "data": {
            "text/plain": [
              "(150, 5)"
            ]
          },
          "metadata": {},
          "execution_count": 34
        }
      ]
    },
    {
      "cell_type": "code",
      "metadata": {
        "colab": {
          "base_uri": "https://localhost:8080/",
          "height": 175
        },
        "id": "cvH3PlMc4VKh",
        "outputId": "a6b799a5-34ee-470a-8648-4e5b328a739a"
      },
      "source": [
        "df.describe()"
      ],
      "execution_count": 35,
      "outputs": [
        {
          "output_type": "execute_result",
          "data": {
            "text/html": [
              "<div>\n",
              "<style scoped>\n",
              "    .dataframe tbody tr th:only-of-type {\n",
              "        vertical-align: middle;\n",
              "    }\n",
              "\n",
              "    .dataframe tbody tr th {\n",
              "        vertical-align: top;\n",
              "    }\n",
              "\n",
              "    .dataframe thead th {\n",
              "        text-align: right;\n",
              "    }\n",
              "</style>\n",
              "<table border=\"1\" class=\"dataframe\">\n",
              "  <thead>\n",
              "    <tr style=\"text-align: right;\">\n",
              "      <th></th>\n",
              "      <th>Cases</th>\n",
              "      <th>Diagnosis</th>\n",
              "      <th>Mood-Stabilizer</th>\n",
              "      <th>Antipsychotic</th>\n",
              "      <th>Sleeping pills</th>\n",
              "    </tr>\n",
              "  </thead>\n",
              "  <tbody>\n",
              "    <tr>\n",
              "      <th>count</th>\n",
              "      <td>150</td>\n",
              "      <td>150</td>\n",
              "      <td>150</td>\n",
              "      <td>150</td>\n",
              "      <td>150</td>\n",
              "    </tr>\n",
              "    <tr>\n",
              "      <th>unique</th>\n",
              "      <td>150</td>\n",
              "      <td>2</td>\n",
              "      <td>2</td>\n",
              "      <td>2</td>\n",
              "      <td>2</td>\n",
              "    </tr>\n",
              "    <tr>\n",
              "      <th>top</th>\n",
              "      <td>The patient experienced too many mood swings d...</td>\n",
              "      <td>BipolarII</td>\n",
              "      <td>Lithium</td>\n",
              "      <td>Risperidone</td>\n",
              "      <td>Rivotril</td>\n",
              "    </tr>\n",
              "    <tr>\n",
              "      <th>freq</th>\n",
              "      <td>1</td>\n",
              "      <td>75</td>\n",
              "      <td>75</td>\n",
              "      <td>75</td>\n",
              "      <td>75</td>\n",
              "    </tr>\n",
              "  </tbody>\n",
              "</table>\n",
              "</div>"
            ],
            "text/plain": [
              "                                                    Cases  ... Sleeping pills\n",
              "count                                                 150  ...            150\n",
              "unique                                                150  ...              2\n",
              "top     The patient experienced too many mood swings d...  ...       Rivotril\n",
              "freq                                                    1  ...             75\n",
              "\n",
              "[4 rows x 5 columns]"
            ]
          },
          "metadata": {},
          "execution_count": 35
        }
      ]
    },
    {
      "cell_type": "code",
      "metadata": {
        "colab": {
          "base_uri": "https://localhost:8080/",
          "height": 459
        },
        "id": "3Jz4720h4VKi",
        "outputId": "bd993e12-d5bd-4443-8ee7-9ce03d8bd491"
      },
      "source": [
        "plt.figure(figsize=(15,6))\n",
        "sns.countplot(x=\"Diagnosis\",hue=\"Diagnosis\",data=df,)\n",
        "plt.legend(bbox_to_anchor=(1.05, 1), loc=2, borderaxespad=0.,prop={'size': 30})\n",
        "plt.xticks(fontsize=30)\n",
        "plt.yticks(fontsize=25)\n",
        "plt.title(\"Diagnosis\",fontsize=30)"
      ],
      "execution_count": 36,
      "outputs": [
        {
          "output_type": "execute_result",
          "data": {
            "text/plain": [
              "Text(0.5, 1.0, 'Diagnosis')"
            ]
          },
          "metadata": {},
          "execution_count": 36
        },
        {
          "output_type": "display_data",
          "data": {
            "image/png": "[encoded data removed]",
            "text/plain": [
              "<Figure size 1080x432 with 1 Axes>"
            ]
          },
          "metadata": {}
        }
      ]
    },
    {
      "cell_type": "code",
      "metadata": {
        "colab": {
          "base_uri": "https://localhost:8080/",
          "height": 459
        },
        "id": "Q6nAI1yu4VKj",
        "outputId": "8f90f8c4-727e-4b15-e902-36e15b7e4670"
      },
      "source": [
        "plt.figure(figsize=(15,6))\n",
        "sns.countplot(x=\"Mood-Stabilizer\",hue=\"Diagnosis\",data=df,palette=\"Set1\")\n",
        "plt.legend(bbox_to_anchor=(1.05, 1), loc=2, borderaxespad=0.,prop={'size': 30})\n",
        "plt.xticks(fontsize=30)\n",
        "plt.yticks(fontsize=25)\n",
        "plt.title(\"Mood Stabilizer\",fontsize=30)"
      ],
      "execution_count": 37,
      "outputs": [
        {
          "output_type": "execute_result",
          "data": {
            "text/plain": [
              "Text(0.5, 1.0, 'Mood Stabilizer')"
            ]
          },
          "metadata": {},
          "execution_count": 37
        },
        {
          "output_type": "display_data",
          "data": {
            "image/png": "[encoded data removed]",
            "text/plain": [
              "<Figure size 1080x432 with 1 Axes>"
            ]
          },
          "metadata": {}
        }
      ]
    },
    {
      "cell_type": "code",
      "metadata": {
        "colab": {
          "base_uri": "https://localhost:8080/",
          "height": 459
        },
        "id": "qpJQrlOF4VKk",
        "outputId": "fa956051-7279-4a7d-c8e3-7950a548866a"
      },
      "source": [
        "plt.figure(figsize=(15,6))\n",
        "sns.countplot(x=\"Antipsychotic\",hue=\"Diagnosis\",data=df,palette=\"Set2\")\n",
        "plt.legend(bbox_to_anchor=(1.05, 1), loc=2, borderaxespad=0.,prop={'size': 30})\n",
        "plt.xticks(fontsize=30)\n",
        "plt.yticks(fontsize=25)\n",
        "plt.title(\"Antipsychotic\",fontsize=30)"
      ],
      "execution_count": 38,
      "outputs": [
        {
          "output_type": "execute_result",
          "data": {
            "text/plain": [
              "Text(0.5, 1.0, 'Antipsychotic')"
            ]
          },
          "metadata": {},
          "execution_count": 38
        },
        {
          "output_type": "display_data",
          "data": {
            "image/png": "[encoded data removed]",
            "text/plain": [
              "<Figure size 1080x432 with 1 Axes>"
            ]
          },
          "metadata": {}
        }
      ]
    },
    {
      "cell_type": "code",
      "metadata": {
        "colab": {
          "base_uri": "https://localhost:8080/",
          "height": 459
        },
        "id": "bGN2j8i-4VKl",
        "outputId": "5fe51d11-54f5-4d61-b84d-c54416c90055"
      },
      "source": [
        "plt.figure(figsize=(15,6))\n",
        "sns.countplot(x=\"Sleeping pills\",hue=\"Diagnosis\",data=df,palette=\"Set3\")\n",
        "plt.legend(bbox_to_anchor=(1.05, 1), loc=2, borderaxespad=0.,prop={'size': 30})\n",
        "plt.xticks(fontsize=30)\n",
        "plt.yticks(fontsize=25)\n",
        "plt.title(\"Sleeping Pills\",fontsize=30)"
      ],
      "execution_count": 39,
      "outputs": [
        {
          "output_type": "execute_result",
          "data": {
            "text/plain": [
              "Text(0.5, 1.0, 'Sleeping Pills')"
            ]
          },
          "metadata": {},
          "execution_count": 39
        },
        {
          "output_type": "display_data",
          "data": {
            "image/png": "[encoded data removed]",
            "text/plain": [
              "<Figure size 1080x432 with 1 Axes>"
            ]
          },
          "metadata": {}
        }
      ]
    },
    {
      "cell_type": "code",
      "metadata": {
        "id": "TTQjPA_j4VKl"
      },
      "source": [
        "PUNCT_TO_REMOVE = string.punctuation\n",
        "def remove_punctuation(text):\n",
        "    \"\"\"custom function to remove the punctuation\"\"\"\n",
        "    return text.translate(str.maketrans('', '', PUNCT_TO_REMOVE))"
      ],
      "execution_count": 40,
      "outputs": []
    },
    {
      "cell_type": "code",
      "metadata": {
        "colab": {
          "base_uri": "https://localhost:8080/"
        },
        "id": "bR-WSUn94_Yl",
        "outputId": "c697b11b-0be5-4dfb-a63f-8ab51cc9b368"
      },
      "source": [
        "nltk.download('stopwords')\n",
        "nltk.download('wordnet')"
      ],
      "execution_count": 41,
      "outputs": [
        {
          "output_type": "stream",
          "name": "stdout",
          "text": [
            "[nltk_data] Downloading package stopwords to /root/nltk_data...\n",
            "[nltk_data]   Package stopwords is already up-to-date!\n",
            "[nltk_data] Downloading package wordnet to /root/nltk_data...\n",
            "[nltk_data]   Package wordnet is already up-to-date!\n"
          ]
        },
        {
          "output_type": "execute_result",
          "data": {
            "text/plain": [
              "True"
            ]
          },
          "metadata": {},
          "execution_count": 41
        }
      ]
    },
    {
      "cell_type": "code",
      "metadata": {
        "colab": {
          "base_uri": "https://localhost:8080/"
        },
        "id": "dzYRYfZ25JH9",
        "outputId": "48c6a307-190e-4118-d6e2-fb1a11261658"
      },
      "source": [
        "df1 = df[['Cases','Diagnosis']]\n",
        "df1.isnull().sum()"
      ],
      "execution_count": 42,
      "outputs": [
        {
          "output_type": "execute_result",
          "data": {
            "text/plain": [
              "Cases        0\n",
              "Diagnosis    0\n",
              "dtype: int64"
            ]
          },
          "metadata": {},
          "execution_count": 42
        }
      ]
    },
    {
      "cell_type": "code",
      "metadata": {
        "colab": {
          "base_uri": "https://localhost:8080/",
          "height": 206
        },
        "id": "694QEx_c5RI-",
        "outputId": "646dfb1e-5c74-4313-fe15-1549c5aec2b1"
      },
      "source": [
        "df1.head()"
      ],
      "execution_count": 43,
      "outputs": [
        {
          "output_type": "execute_result",
          "data": {
            "text/html": [
              "<div>\n",
              "<style scoped>\n",
              "    .dataframe tbody tr th:only-of-type {\n",
              "        vertical-align: middle;\n",
              "    }\n",
              "\n",
              "    .dataframe tbody tr th {\n",
              "        vertical-align: top;\n",
              "    }\n",
              "\n",
              "    .dataframe thead th {\n",
              "        text-align: right;\n",
              "    }\n",
              "</style>\n",
              "<table border=\"1\" class=\"dataframe\">\n",
              "  <thead>\n",
              "    <tr style=\"text-align: right;\">\n",
              "      <th></th>\n",
              "      <th>Cases</th>\n",
              "      <th>Diagnosis</th>\n",
              "    </tr>\n",
              "  </thead>\n",
              "  <tbody>\n",
              "    <tr>\n",
              "      <th>0</th>\n",
              "      <td>Patient displayed aggressive and violent behav...</td>\n",
              "      <td>Bipolar I</td>\n",
              "    </tr>\n",
              "    <tr>\n",
              "      <th>1</th>\n",
              "      <td>The patient exhibited aggressive and violent b...</td>\n",
              "      <td>Bipolar I</td>\n",
              "    </tr>\n",
              "    <tr>\n",
              "      <th>2</th>\n",
              "      <td>The patient had ADHD like systems and extremel...</td>\n",
              "      <td>Bipolar I</td>\n",
              "    </tr>\n",
              "    <tr>\n",
              "      <th>3</th>\n",
              "      <td>The patient lacks the attention span and obser...</td>\n",
              "      <td>Bipolar I</td>\n",
              "    </tr>\n",
              "    <tr>\n",
              "      <th>4</th>\n",
              "      <td>The patient showed several inability to focus ...</td>\n",
              "      <td>Bipolar I</td>\n",
              "    </tr>\n",
              "  </tbody>\n",
              "</table>\n",
              "</div>"
            ],
            "text/plain": [
              "                                               Cases  Diagnosis\n",
              "0  Patient displayed aggressive and violent behav...  Bipolar I\n",
              "1  The patient exhibited aggressive and violent b...  Bipolar I\n",
              "2  The patient had ADHD like systems and extremel...  Bipolar I\n",
              "3  The patient lacks the attention span and obser...  Bipolar I\n",
              "4  The patient showed several inability to focus ...  Bipolar I"
            ]
          },
          "metadata": {},
          "execution_count": 43
        }
      ]
    },
    {
      "cell_type": "code",
      "metadata": {
        "colab": {
          "base_uri": "https://localhost:8080/",
          "height": 206
        },
        "id": "uIkdP3Ga5TsM",
        "outputId": "8962a499-f28a-4ad7-9088-629e569fa79b"
      },
      "source": [
        "df1.tail()"
      ],
      "execution_count": 44,
      "outputs": [
        {
          "output_type": "execute_result",
          "data": {
            "text/html": [
              "<div>\n",
              "<style scoped>\n",
              "    .dataframe tbody tr th:only-of-type {\n",
              "        vertical-align: middle;\n",
              "    }\n",
              "\n",
              "    .dataframe tbody tr th {\n",
              "        vertical-align: top;\n",
              "    }\n",
              "\n",
              "    .dataframe thead th {\n",
              "        text-align: right;\n",
              "    }\n",
              "</style>\n",
              "<table border=\"1\" class=\"dataframe\">\n",
              "  <thead>\n",
              "    <tr style=\"text-align: right;\">\n",
              "      <th></th>\n",
              "      <th>Cases</th>\n",
              "      <th>Diagnosis</th>\n",
              "    </tr>\n",
              "  </thead>\n",
              "  <tbody>\n",
              "    <tr>\n",
              "      <th>145</th>\n",
              "      <td>The patient experienced extreme mood swings, c...</td>\n",
              "      <td>BipolarII</td>\n",
              "    </tr>\n",
              "    <tr>\n",
              "      <th>146</th>\n",
              "      <td>The patient beat his family in a crazy frenzy,...</td>\n",
              "      <td>BipolarII</td>\n",
              "    </tr>\n",
              "    <tr>\n",
              "      <th>147</th>\n",
              "      <td>The patient was addicted to drugs in a manic p...</td>\n",
              "      <td>BipolarII</td>\n",
              "    </tr>\n",
              "    <tr>\n",
              "      <th>148</th>\n",
              "      <td>The patient lived in isolation, playing video ...</td>\n",
              "      <td>BipolarII</td>\n",
              "    </tr>\n",
              "    <tr>\n",
              "      <th>149</th>\n",
              "      <td>The patient violently attacked a classmate dur...</td>\n",
              "      <td>BipolarII</td>\n",
              "    </tr>\n",
              "  </tbody>\n",
              "</table>\n",
              "</div>"
            ],
            "text/plain": [
              "                                                 Cases  Diagnosis\n",
              "145  The patient experienced extreme mood swings, c...  BipolarII\n",
              "146  The patient beat his family in a crazy frenzy,...  BipolarII\n",
              "147  The patient was addicted to drugs in a manic p...  BipolarII\n",
              "148  The patient lived in isolation, playing video ...  BipolarII\n",
              "149  The patient violently attacked a classmate dur...  BipolarII"
            ]
          },
          "metadata": {},
          "execution_count": 44
        }
      ]
    },
    {
      "cell_type": "code",
      "metadata": {
        "id": "rPDcIYe15VaU"
      },
      "source": [
        "    #lower casing\n",
        "    df['Cases'] = df['Cases'].str.lower()\n",
        "\n",
        "    #punctuation removal         \n",
        "    df[\"Cases\"] = df[\"Cases\"].apply(lambda text: remove_punctuation(text))"
      ],
      "execution_count": 45,
      "outputs": []
    },
    {
      "cell_type": "code",
      "metadata": {
        "colab": {
          "base_uri": "https://localhost:8080/",
          "height": 206
        },
        "id": "dLbT18-S7yry",
        "outputId": "38f5d8a8-a33b-4517-fe0b-92cbdfc98824"
      },
      "source": [
        "df1.head()"
      ],
      "execution_count": 46,
      "outputs": [
        {
          "output_type": "execute_result",
          "data": {
            "text/html": [
              "<div>\n",
              "<style scoped>\n",
              "    .dataframe tbody tr th:only-of-type {\n",
              "        vertical-align: middle;\n",
              "    }\n",
              "\n",
              "    .dataframe tbody tr th {\n",
              "        vertical-align: top;\n",
              "    }\n",
              "\n",
              "    .dataframe thead th {\n",
              "        text-align: right;\n",
              "    }\n",
              "</style>\n",
              "<table border=\"1\" class=\"dataframe\">\n",
              "  <thead>\n",
              "    <tr style=\"text-align: right;\">\n",
              "      <th></th>\n",
              "      <th>Cases</th>\n",
              "      <th>Diagnosis</th>\n",
              "    </tr>\n",
              "  </thead>\n",
              "  <tbody>\n",
              "    <tr>\n",
              "      <th>0</th>\n",
              "      <td>Patient displayed aggressive and violent behav...</td>\n",
              "      <td>Bipolar I</td>\n",
              "    </tr>\n",
              "    <tr>\n",
              "      <th>1</th>\n",
              "      <td>The patient exhibited aggressive and violent b...</td>\n",
              "      <td>Bipolar I</td>\n",
              "    </tr>\n",
              "    <tr>\n",
              "      <th>2</th>\n",
              "      <td>The patient had ADHD like systems and extremel...</td>\n",
              "      <td>Bipolar I</td>\n",
              "    </tr>\n",
              "    <tr>\n",
              "      <th>3</th>\n",
              "      <td>The patient lacks the attention span and obser...</td>\n",
              "      <td>Bipolar I</td>\n",
              "    </tr>\n",
              "    <tr>\n",
              "      <th>4</th>\n",
              "      <td>The patient showed several inability to focus ...</td>\n",
              "      <td>Bipolar I</td>\n",
              "    </tr>\n",
              "  </tbody>\n",
              "</table>\n",
              "</div>"
            ],
            "text/plain": [
              "                                               Cases  Diagnosis\n",
              "0  Patient displayed aggressive and violent behav...  Bipolar I\n",
              "1  The patient exhibited aggressive and violent b...  Bipolar I\n",
              "2  The patient had ADHD like systems and extremel...  Bipolar I\n",
              "3  The patient lacks the attention span and obser...  Bipolar I\n",
              "4  The patient showed several inability to focus ...  Bipolar I"
            ]
          },
          "metadata": {},
          "execution_count": 46
        }
      ]
    },
    {
      "cell_type": "code",
      "metadata": {
        "colab": {
          "base_uri": "https://localhost:8080/",
          "height": 198
        },
        "id": "iYIWde8p5kDU",
        "outputId": "a4db5c7d-9d63-4128-c7d8-24a44b7e991b"
      },
      "source": [
        "common_words=''\n",
        "for i in df1.Cases:\n",
        "    i = str(i)\n",
        "    tokens = i.split()\n",
        "    common_words += \" \".join(tokens)+\" \"\n",
        "wordcloud = wordcloud.WordCloud().generate(common_words)\n",
        "plt.imshow(wordcloud, interpolation='bilinear')\n",
        "plt.axis(\"off\")\n",
        "plt.show()"
      ],
      "execution_count": 47,
      "outputs": [
        {
          "output_type": "display_data",
          "data": {
            "image/png": "[encoded data removed]",
            "text/plain": [
              "<Figure size 432x288 with 1 Axes>"
            ]
          },
          "metadata": {}
        }
      ]
    },
    {
      "cell_type": "code",
      "metadata": {
        "id": "4VyiiXA9kyHz"
      },
      "source": [
        "df2=df1"
      ],
      "execution_count": 49,
      "outputs": []
    },
    {
      "cell_type": "code",
      "metadata": {
        "colab": {
          "base_uri": "https://localhost:8080/"
        },
        "id": "wCNDMoIOjtPo",
        "outputId": "2caea2ed-cf00-4a28-cdd3-28999ae5b2bf"
      },
      "source": [
        "le = LabelEncoder()\n",
        "le.fit(df1['Diagnosis'])\n",
        "df2['Diagnosis'] = le.transform(df2['Diagnosis'])"
      ],
      "execution_count": 50,
      "outputs": [
        {
          "output_type": "stream",
          "name": "stderr",
          "text": [
            "/usr/local/lib/python3.7/dist-packages/ipykernel_launcher.py:3: SettingWithCopyWarning: \n",
            "A value is trying to be set on a copy of a slice from a DataFrame.\n",
            "Try using .loc[row_indexer,col_indexer] = value instead\n",
            "\n",
            "See the caveats in the documentation: https://pandas.pydata.org/pandas-docs/stable/user_guide/indexing.html#returning-a-view-versus-a-copy\n",
            "  This is separate from the ipykernel package so we can avoid doing imports until\n"
          ]
        }
      ]
    },
    {
      "cell_type": "code",
      "metadata": {
        "id": "JcgOrv2Xkv6w"
      },
      "source": [
        "Y  = np_utils.to_categorical(df2['Diagnosis'], 2)"
      ],
      "execution_count": 51,
      "outputs": []
    },
    {
      "cell_type": "code",
      "metadata": {
        "id": "FLS-GtK4k2bs"
      },
      "source": [
        "X_train, X_test, Y_train, Y_test = train_test_split(df2['Cases'], Y, test_size = 0.30, random_state = 7, shuffle = True)"
      ],
      "execution_count": 53,
      "outputs": []
    },
    {
      "cell_type": "code",
      "metadata": {
        "id": "3oU_8nIAk3te"
      },
      "source": [
        "from sklearn.feature_extraction.text import TfidfVectorizer\n",
        "max_feature_num = 500\n",
        "vectorizer = TfidfVectorizer(max_features=max_feature_num)\n",
        "train_vecs = vectorizer.fit_transform(X_train)\n",
        "test_vecs = TfidfVectorizer(max_features=max_feature_num, vocabulary=vectorizer.vocabulary_).fit_transform(X_test)\n"
      ],
      "execution_count": 54,
      "outputs": []
    },
    {
      "cell_type": "code",
      "metadata": {
        "colab": {
          "base_uri": "https://localhost:8080/"
        },
        "id": "U1mcqYrQk7uK",
        "outputId": "2a4b3ecb-f826-44ff-829b-0c6532852d7e"
      },
      "source": [
        "model = Sequential()\n",
        "\n",
        "model.add(Dense(64, activation='relu', input_dim = train_vecs.shape[1]))\n",
        "model.add(Dense(32, activation='relu'))\n",
        "# model.add(Dense(32, activation='relu'))\n",
        "# model.add(Dense(16, activation='relu'))\n",
        "# model.add(Dense(32, activation='relu'))\n",
        "\n",
        "model.add(Dense(2, activation='sigmoid'))\n",
        "\n",
        "model.summary()"
      ],
      "execution_count": 55,
      "outputs": [
        {
          "output_type": "stream",
          "name": "stdout",
          "text": [
            "Model: \"sequential\"\n",
            "_________________________________________________________________\n",
            "Layer (type)                 Output Shape              Param #   \n",
            "=================================================================\n",
            "dense (Dense)                (None, 64)                32064     \n",
            "_________________________________________________________________\n",
            "dense_1 (Dense)              (None, 32)                2080      \n",
            "_________________________________________________________________\n",
            "dense_2 (Dense)              (None, 2)                 66        \n",
            "=================================================================\n",
            "Total params: 34,210\n",
            "Trainable params: 34,210\n",
            "Non-trainable params: 0\n",
            "_________________________________________________________________\n"
          ]
        }
      ]
    },
    {
      "cell_type": "code",
      "metadata": {
        "id": "MXKitJu8k-aQ"
      },
      "source": [
        "\n",
        "model.compile(optimizer = \"adam\", loss = 'binary_crossentropy', metrics = ['accuracy'] )"
      ],
      "execution_count": 57,
      "outputs": []
    },
    {
      "cell_type": "code",
      "metadata": {
        "colab": {
          "base_uri": "https://localhost:8080/"
        },
        "id": "NuXz-_1VlBPW",
        "outputId": "f2acf83b-bbb9-479e-918d-aa2c7bf4474a"
      },
      "source": [
        "hist = model.fit(train_vecs.toarray(), Y_train, epochs = 10, verbose = 1, validation_split = 0.2) "
      ],
      "execution_count": 58,
      "outputs": [
        {
          "output_type": "stream",
          "name": "stdout",
          "text": [
            "Epoch 1/10\n",
            "3/3 [==============================] - 1s 103ms/step - loss: 0.6962 - accuracy: 0.4405 - val_loss: 0.6911 - val_accuracy: 0.5238\n",
            "Epoch 2/10\n",
            "3/3 [==============================] - 0s 15ms/step - loss: 0.6878 - accuracy: 0.6548 - val_loss: 0.6890 - val_accuracy: 0.5238\n",
            "Epoch 3/10\n",
            "3/3 [==============================] - 0s 15ms/step - loss: 0.6814 - accuracy: 0.8095 - val_loss: 0.6865 - val_accuracy: 0.6667\n",
            "Epoch 4/10\n",
            "3/3 [==============================] - 0s 14ms/step - loss: 0.6748 - accuracy: 0.9167 - val_loss: 0.6832 - val_accuracy: 0.6667\n",
            "Epoch 5/10\n",
            "3/3 [==============================] - 0s 17ms/step - loss: 0.6675 - accuracy: 0.9524 - val_loss: 0.6786 - val_accuracy: 0.7619\n",
            "Epoch 6/10\n",
            "3/3 [==============================] - 0s 17ms/step - loss: 0.6588 - accuracy: 0.9643 - val_loss: 0.6735 - val_accuracy: 0.8095\n",
            "Epoch 7/10\n",
            "3/3 [==============================] - 0s 14ms/step - loss: 0.6497 - accuracy: 0.9643 - val_loss: 0.6665 - val_accuracy: 0.8095\n",
            "Epoch 8/10\n",
            "3/3 [==============================] - 0s 14ms/step - loss: 0.6380 - accuracy: 0.9643 - val_loss: 0.6584 - val_accuracy: 0.8571\n",
            "Epoch 9/10\n",
            "3/3 [==============================] - 0s 13ms/step - loss: 0.6246 - accuracy: 0.9643 - val_loss: 0.6481 - val_accuracy: 0.8571\n",
            "Epoch 10/10\n",
            "3/3 [==============================] - 0s 13ms/step - loss: 0.6087 - accuracy: 0.9643 - val_loss: 0.6353 - val_accuracy: 0.8571\n"
          ]
        }
      ]
    },
    {
      "cell_type": "code",
      "metadata": {
        "colab": {
          "base_uri": "https://localhost:8080/",
          "height": 206
        },
        "id": "FYrKiDwMlHPS",
        "outputId": "f466e72a-94a4-4b60-a73e-1583ab2d342b"
      },
      "source": [
        "df_w2v = df2.copy() \n",
        "df_w2v.head()"
      ],
      "execution_count": 59,
      "outputs": [
        {
          "output_type": "execute_result",
          "data": {
            "text/html": [
              "<div>\n",
              "<style scoped>\n",
              "    .dataframe tbody tr th:only-of-type {\n",
              "        vertical-align: middle;\n",
              "    }\n",
              "\n",
              "    .dataframe tbody tr th {\n",
              "        vertical-align: top;\n",
              "    }\n",
              "\n",
              "    .dataframe thead th {\n",
              "        text-align: right;\n",
              "    }\n",
              "</style>\n",
              "<table border=\"1\" class=\"dataframe\">\n",
              "  <thead>\n",
              "    <tr style=\"text-align: right;\">\n",
              "      <th></th>\n",
              "      <th>Cases</th>\n",
              "      <th>Diagnosis</th>\n",
              "    </tr>\n",
              "  </thead>\n",
              "  <tbody>\n",
              "    <tr>\n",
              "      <th>0</th>\n",
              "      <td>Patient displayed aggressive and violent behav...</td>\n",
              "      <td>0</td>\n",
              "    </tr>\n",
              "    <tr>\n",
              "      <th>1</th>\n",
              "      <td>The patient exhibited aggressive and violent b...</td>\n",
              "      <td>0</td>\n",
              "    </tr>\n",
              "    <tr>\n",
              "      <th>2</th>\n",
              "      <td>The patient had ADHD like systems and extremel...</td>\n",
              "      <td>0</td>\n",
              "    </tr>\n",
              "    <tr>\n",
              "      <th>3</th>\n",
              "      <td>The patient lacks the attention span and obser...</td>\n",
              "      <td>0</td>\n",
              "    </tr>\n",
              "    <tr>\n",
              "      <th>4</th>\n",
              "      <td>The patient showed several inability to focus ...</td>\n",
              "      <td>0</td>\n",
              "    </tr>\n",
              "  </tbody>\n",
              "</table>\n",
              "</div>"
            ],
            "text/plain": [
              "                                               Cases  Diagnosis\n",
              "0  Patient displayed aggressive and violent behav...          0\n",
              "1  The patient exhibited aggressive and violent b...          0\n",
              "2  The patient had ADHD like systems and extremel...          0\n",
              "3  The patient lacks the attention span and obser...          0\n",
              "4  The patient showed several inability to focus ...          0"
            ]
          },
          "metadata": {},
          "execution_count": 59
        }
      ]
    },
    {
      "cell_type": "code",
      "metadata": {
        "id": "yboPl8zelLQy"
      },
      "source": [
        "import spacy\n",
        "def tokenizer(str):\n",
        "    nlp = spacy.blank('ur')\n",
        "    doc = nlp.tokenizer(str)\n",
        "    return [i.text for i in doc]\n",
        "df_w2v[\"tokens\"] = df_w2v[\"Cases\"].apply(tokenizer)"
      ],
      "execution_count": 61,
      "outputs": []
    },
    {
      "cell_type": "code",
      "metadata": {
        "id": "czAltAAflOwc"
      },
      "source": [
        "import gensim\n",
        "\n",
        "model_word2vec = gensim.models.Word2Vec(sentences=df_w2v[\"tokens\"], size=128, window=5, workers=10, min_count = 1)"
      ],
      "execution_count": 62,
      "outputs": []
    },
    {
      "cell_type": "code",
      "metadata": {
        "id": "8wxllNo_lSm7"
      },
      "source": [
        "VOCAB_SIZE = len(model_word2vec.wv.vocab)\n",
        "DIMENSIONS = 128\n",
        "MAX_LEN = max([len(x) for x in df_w2v[\"tokens\"]])"
      ],
      "execution_count": 63,
      "outputs": []
    },
    {
      "cell_type": "code",
      "metadata": {
        "id": "CaHWG0m8lU6Z"
      },
      "source": [
        "from keras.preprocessing.text import Tokenizer\n",
        "token = Tokenizer()\n",
        "token.fit_on_texts(df_w2v[\"tokens\"])\n",
        "encoded = token.texts_to_sequences(df_w2v[\"tokens\"])"
      ],
      "execution_count": 64,
      "outputs": []
    },
    {
      "cell_type": "code",
      "metadata": {
        "id": "BFfpRiCVlWUr"
      },
      "source": [
        "words2vec_matrix = np.zeros((VOCAB_SIZE+1,DIMENSIONS))\n",
        "for word, index in token.word_index.items():\n",
        "    try:\n",
        "        words2vec_matrix[index] = model_word2vec.wv[word]\n",
        "    except:\n",
        "        pass"
      ],
      "execution_count": 65,
      "outputs": []
    },
    {
      "cell_type": "code",
      "metadata": {
        "id": "aAXbXiTHlYTz"
      },
      "source": [
        "import tensorflow as tf\n",
        "train_vectors = tf.keras.preprocessing.sequence.pad_sequences(encoded,padding='post',dtype=int)"
      ],
      "execution_count": 67,
      "outputs": []
    },
    {
      "cell_type": "code",
      "metadata": {
        "id": "ma6RkoEGlcNq"
      },
      "source": [
        "train_label = df_w2v.Diagnosis"
      ],
      "execution_count": 69,
      "outputs": []
    },
    {
      "cell_type": "code",
      "metadata": {
        "id": "Gp2RSxPwlee2"
      },
      "source": [
        "(train_sentences,test_sentences, train_tags, test_tags) = train_test_split(train_vectors, train_label, test_size=0.2, shuffle = True)"
      ],
      "execution_count": 70,
      "outputs": []
    },
    {
      "cell_type": "code",
      "metadata": {
        "id": "TTS_qTGylhXT"
      },
      "source": [
        "import tensorflow.keras.layers as Layers\n",
        "import tensorflow.keras.activations as Actications\n",
        "import tensorflow.keras.models as Models\n",
        "from tensorflow.keras.optimizers import Adam, Optimizer, SGD\n",
        "import tensorflow.keras.initializers as Init\n",
        "from tensorflow.keras import regularizers"
      ],
      "execution_count": 71,
      "outputs": []
    },
    {
      "cell_type": "code",
      "metadata": {
        "colab": {
          "base_uri": "https://localhost:8080/"
        },
        "id": "unqaaK-Zli04",
        "outputId": "3c2fbad1-f0df-42a0-a7ac-946b8c99b4ef"
      },
      "source": [
        "lstm = Models.Sequential()\n",
        "\n",
        "lstm.add(Layers.Embedding(VOCAB_SIZE+1,DIMENSIONS,\n",
        "                          embeddings_initializer = Init.Constant(words2vec_matrix),\n",
        "                          input_length=MAX_LEN, trainable=False ))\n",
        "\n",
        "lstm.add(Layers.Bidirectional(Layers.LSTM(256, activation='tanh')))\n",
        "\n",
        "lstm.add(Layers.Dense(128, activation='tanh'))\n",
        "lstm.add(Layers.Dropout(0.3))\n",
        "\n",
        "lstm.add(Layers.Dense(64, activation='tanh'))\n",
        "lstm.add(Layers.Dropout(0.3))\n",
        "\n",
        "lstm.add(Layers.Dense(1, activation='sigmoid'))\n",
        "\n",
        "lstm.summary()"
      ],
      "execution_count": 75,
      "outputs": [
        {
          "output_type": "stream",
          "name": "stdout",
          "text": [
            "Model: \"sequential_4\"\n",
            "_________________________________________________________________\n",
            "Layer (type)                 Output Shape              Param #   \n",
            "=================================================================\n",
            "embedding_3 (Embedding)      (None, 57, 128)           114432    \n",
            "_________________________________________________________________\n",
            "bidirectional (Bidirectional (None, 512)               788480    \n",
            "_________________________________________________________________\n",
            "dense_3 (Dense)              (None, 128)               65664     \n",
            "_________________________________________________________________\n",
            "dropout (Dropout)            (None, 128)               0         \n",
            "_________________________________________________________________\n",
            "dense_4 (Dense)              (None, 64)                8256      \n",
            "_________________________________________________________________\n",
            "dropout_1 (Dropout)          (None, 64)                0         \n",
            "_________________________________________________________________\n",
            "dense_5 (Dense)              (None, 1)                 65        \n",
            "=================================================================\n",
            "Total params: 976,897\n",
            "Trainable params: 862,465\n",
            "Non-trainable params: 114,432\n",
            "_________________________________________________________________\n"
          ]
        }
      ]
    },
    {
      "cell_type": "code",
      "metadata": {
        "colab": {
          "base_uri": "https://localhost:8080/"
        },
        "id": "QwWFlB12lj4p",
        "outputId": "6d08b1ea-1bc7-4f05-f37b-2713b526a469"
      },
      "source": [
        "from keras.callbacks import ModelCheckpoint\n",
        "from tensorflow.keras.callbacks import EarlyStopping\n",
        " \n",
        "\n",
        "lstm.compile(loss='binary_crossentropy', optimizer='adam', metrics=['accuracy'])\n",
        "es_callback = EarlyStopping(monitor='val_loss', patience=3) \n",
        "LSTM_NET = lstm.fit(train_sentences, train_tags, epochs=10, validation_split=0.2, callbacks=[es_callback], shuffle=False)"
      ],
      "execution_count": 76,
      "outputs": [
        {
          "output_type": "stream",
          "name": "stdout",
          "text": [
            "Epoch 1/10\n",
            "3/3 [==============================] - 5s 890ms/step - loss: 0.6870 - accuracy: 0.4792 - val_loss: 0.6691 - val_accuracy: 0.6250\n",
            "Epoch 2/10\n",
            "3/3 [==============================] - 1s 504ms/step - loss: 0.6260 - accuracy: 0.6667 - val_loss: 0.6718 - val_accuracy: 0.5833\n",
            "Epoch 3/10\n",
            "3/3 [==============================] - 1s 512ms/step - loss: 0.6491 - accuracy: 0.6458 - val_loss: 0.6888 - val_accuracy: 0.6250\n",
            "Epoch 4/10\n",
            "3/3 [==============================] - 1s 507ms/step - loss: 0.5975 - accuracy: 0.6771 - val_loss: 0.6876 - val_accuracy: 0.5000\n"
          ]
        }
      ]
    },
    {
      "cell_type": "code",
      "metadata": {
        "colab": {
          "base_uri": "https://localhost:8080/",
          "height": 301
        },
        "id": "xEJebs80l08x",
        "outputId": "a38885bb-3a6d-4252-fe91-3ce2f823950f"
      },
      "source": [
        "plt.plot(LSTM_NET.history['accuracy'])\n",
        "plt.plot(LSTM_NET.history['val_accuracy'])\n",
        "plt.title('Model accuracy')\n",
        "plt.ylabel('Accuracy')\n",
        "plt.xlabel('Epoch')\n",
        "plt.legend(['Train', 'Validation'], loc='upper left')\n",
        "plt.show()"
      ],
      "execution_count": 77,
      "outputs": [
        {
          "output_type": "display_data",
          "data": {
            "image/png": "[encoded data removed]",
            "text/plain": [
              "<Figure size 432x288 with 1 Axes>"
            ]
          },
          "metadata": {}
        }
      ]
    },
    {
      "cell_type": "code",
      "metadata": {
        "colab": {
          "base_uri": "https://localhost:8080/"
        },
        "id": "3HzQtTEIl2lx",
        "outputId": "03dcb68f-71e0-49f7-c120-cb08deba4480"
      },
      "source": [
        "lstm.evaluate(test_sentences,test_tags)"
      ],
      "execution_count": 79,
      "outputs": [
        {
          "output_type": "stream",
          "name": "stdout",
          "text": [
            "1/1 [==============================] - 0s 112ms/step - loss: 0.5452 - accuracy: 0.7333\n"
          ]
        },
        {
          "output_type": "execute_result",
          "data": {
            "text/plain": [
              "[0.5451510548591614, 0.7333333492279053]"
            ]
          },
          "metadata": {},
          "execution_count": 79
        }
      ]
    },
    {
      "cell_type": "code",
      "metadata": {
        "colab": {
          "base_uri": "https://localhost:8080/"
        },
        "id": "GzVwSN9sl-p-",
        "outputId": "5805b487-5176-485f-ec18-711369982991"
      },
      "source": [
        "model = Models.Sequential()\n",
        "\n",
        "model.add(Layers.Embedding(VOCAB_SIZE+1,DIMENSIONS,\n",
        "                           embeddings_initializer = Init.Constant(words2vec_matrix),\n",
        "                           input_length=MAX_LEN, trainable=False ))\n",
        "\n",
        "model.add(Layers.Conv1D(512, 5, activation=\"relu\"))\n",
        "model.add(Layers.MaxPooling1D(5))\n",
        "\n",
        "model.add(Layers.Flatten())\n",
        "\n",
        "model.add(Layers.Dense(32, activation='relu', kernel_regularizer = regularizers.l2(1e-4)))\n",
        "model.add(Layers.Dropout(0.6))\n",
        "\n",
        "model.add(Layers.Dense(1,activation='sigmoid'))\n",
        "\n",
        "model.summary()\n",
        "\n",
        "model.compile(optimizer=\"adam\",loss='binary_crossentropy',metrics=['accuracy'])"
      ],
      "execution_count": 81,
      "outputs": [
        {
          "output_type": "stream",
          "name": "stdout",
          "text": [
            "Model: \"sequential_6\"\n",
            "_________________________________________________________________\n",
            "Layer (type)                 Output Shape              Param #   \n",
            "=================================================================\n",
            "embedding_5 (Embedding)      (None, 57, 128)           114432    \n",
            "_________________________________________________________________\n",
            "conv1d_12 (Conv1D)           (None, 53, 512)           328192    \n",
            "_________________________________________________________________\n",
            "max_pooling1d_8 (MaxPooling1 (None, 10, 512)           0         \n",
            "_________________________________________________________________\n",
            "flatten (Flatten)            (None, 5120)              0         \n",
            "_________________________________________________________________\n",
            "dense_6 (Dense)              (None, 32)                163872    \n",
            "_________________________________________________________________\n",
            "dropout_2 (Dropout)          (None, 32)                0         \n",
            "_________________________________________________________________\n",
            "dense_7 (Dense)              (None, 1)                 33        \n",
            "=================================================================\n",
            "Total params: 606,529\n",
            "Trainable params: 492,097\n",
            "Non-trainable params: 114,432\n",
            "_________________________________________________________________\n"
          ]
        }
      ]
    },
    {
      "cell_type": "code",
      "metadata": {
        "colab": {
          "base_uri": "https://localhost:8080/"
        },
        "id": "iwXsvU_vmTzp",
        "outputId": "a07ac659-995a-496b-a552-2d7d13b8f305"
      },
      "source": [
        "CONV_NET = model.fit( train_sentences, train_tags, epochs=50, validation_split=0.20 )"
      ],
      "execution_count": 83,
      "outputs": [
        {
          "output_type": "stream",
          "name": "stdout",
          "text": [
            "Epoch 1/50\n",
            "3/3 [==============================] - 0s 90ms/step - loss: 0.5184 - accuracy: 0.7292 - val_loss: 0.6281 - val_accuracy: 0.6250\n",
            "Epoch 2/50\n",
            "3/3 [==============================] - 0s 78ms/step - loss: 0.5698 - accuracy: 0.7292 - val_loss: 0.6175 - val_accuracy: 0.6667\n",
            "Epoch 3/50\n",
            "3/3 [==============================] - 0s 77ms/step - loss: 0.4999 - accuracy: 0.7292 - val_loss: 0.6142 - val_accuracy: 0.6667\n",
            "Epoch 4/50\n",
            "3/3 [==============================] - 0s 84ms/step - loss: 0.5169 - accuracy: 0.7292 - val_loss: 0.6149 - val_accuracy: 0.7083\n",
            "Epoch 5/50\n",
            "3/3 [==============================] - 0s 74ms/step - loss: 0.5109 - accuracy: 0.7396 - val_loss: 0.6179 - val_accuracy: 0.6667\n",
            "Epoch 6/50\n",
            "3/3 [==============================] - 0s 74ms/step - loss: 0.4878 - accuracy: 0.7604 - val_loss: 0.6178 - val_accuracy: 0.6667\n",
            "Epoch 7/50\n",
            "3/3 [==============================] - 0s 78ms/step - loss: 0.4534 - accuracy: 0.8333 - val_loss: 0.6187 - val_accuracy: 0.7083\n",
            "Epoch 8/50\n",
            "3/3 [==============================] - 0s 73ms/step - loss: 0.4893 - accuracy: 0.7396 - val_loss: 0.6144 - val_accuracy: 0.7083\n",
            "Epoch 9/50\n",
            "3/3 [==============================] - 0s 82ms/step - loss: 0.5167 - accuracy: 0.7292 - val_loss: 0.6235 - val_accuracy: 0.6667\n",
            "Epoch 10/50\n",
            "3/3 [==============================] - 0s 81ms/step - loss: 0.4386 - accuracy: 0.7812 - val_loss: 0.6127 - val_accuracy: 0.6667\n",
            "Epoch 11/50\n",
            "3/3 [==============================] - 0s 77ms/step - loss: 0.4562 - accuracy: 0.7708 - val_loss: 0.6102 - val_accuracy: 0.7083\n",
            "Epoch 12/50\n",
            "3/3 [==============================] - 0s 79ms/step - loss: 0.4289 - accuracy: 0.8438 - val_loss: 0.6230 - val_accuracy: 0.6667\n",
            "Epoch 13/50\n",
            "3/3 [==============================] - 0s 77ms/step - loss: 0.3763 - accuracy: 0.8646 - val_loss: 0.6274 - val_accuracy: 0.6667\n",
            "Epoch 14/50\n",
            "3/3 [==============================] - 0s 76ms/step - loss: 0.4355 - accuracy: 0.8021 - val_loss: 0.6082 - val_accuracy: 0.6667\n",
            "Epoch 15/50\n",
            "3/3 [==============================] - 0s 76ms/step - loss: 0.3770 - accuracy: 0.8125 - val_loss: 0.6270 - val_accuracy: 0.7083\n",
            "Epoch 16/50\n",
            "3/3 [==============================] - 0s 75ms/step - loss: 0.3730 - accuracy: 0.8229 - val_loss: 0.6299 - val_accuracy: 0.6250\n",
            "Epoch 17/50\n",
            "3/3 [==============================] - 0s 74ms/step - loss: 0.3276 - accuracy: 0.8542 - val_loss: 0.6174 - val_accuracy: 0.6667\n",
            "Epoch 18/50\n",
            "3/3 [==============================] - 0s 80ms/step - loss: 0.3007 - accuracy: 0.8854 - val_loss: 0.6220 - val_accuracy: 0.6667\n",
            "Epoch 19/50\n",
            "3/3 [==============================] - 0s 75ms/step - loss: 0.3141 - accuracy: 0.8750 - val_loss: 0.6476 - val_accuracy: 0.6667\n",
            "Epoch 20/50\n",
            "3/3 [==============================] - 0s 73ms/step - loss: 0.3330 - accuracy: 0.8646 - val_loss: 0.6272 - val_accuracy: 0.6667\n",
            "Epoch 21/50\n",
            "3/3 [==============================] - 0s 75ms/step - loss: 0.3192 - accuracy: 0.8229 - val_loss: 0.6188 - val_accuracy: 0.6667\n",
            "Epoch 22/50\n",
            "3/3 [==============================] - 0s 77ms/step - loss: 0.3351 - accuracy: 0.8542 - val_loss: 0.6256 - val_accuracy: 0.6667\n",
            "Epoch 23/50\n",
            "3/3 [==============================] - 0s 79ms/step - loss: 0.3132 - accuracy: 0.8750 - val_loss: 0.6471 - val_accuracy: 0.6667\n",
            "Epoch 24/50\n",
            "3/3 [==============================] - 0s 75ms/step - loss: 0.2371 - accuracy: 0.9375 - val_loss: 0.6648 - val_accuracy: 0.6667\n",
            "Epoch 25/50\n",
            "3/3 [==============================] - 0s 74ms/step - loss: 0.2888 - accuracy: 0.8646 - val_loss: 0.6601 - val_accuracy: 0.6667\n",
            "Epoch 26/50\n",
            "3/3 [==============================] - 0s 74ms/step - loss: 0.3378 - accuracy: 0.8333 - val_loss: 0.6741 - val_accuracy: 0.6250\n",
            "Epoch 27/50\n",
            "3/3 [==============================] - 0s 78ms/step - loss: 0.2577 - accuracy: 0.8750 - val_loss: 0.6791 - val_accuracy: 0.6667\n",
            "Epoch 28/50\n",
            "3/3 [==============================] - 0s 82ms/step - loss: 0.2898 - accuracy: 0.8750 - val_loss: 0.6644 - val_accuracy: 0.6250\n",
            "Epoch 29/50\n",
            "3/3 [==============================] - 0s 75ms/step - loss: 0.2534 - accuracy: 0.9062 - val_loss: 0.6707 - val_accuracy: 0.6667\n",
            "Epoch 30/50\n",
            "3/3 [==============================] - 0s 73ms/step - loss: 0.2916 - accuracy: 0.8750 - val_loss: 0.6819 - val_accuracy: 0.6667\n",
            "Epoch 31/50\n",
            "3/3 [==============================] - 0s 75ms/step - loss: 0.2956 - accuracy: 0.8542 - val_loss: 0.6875 - val_accuracy: 0.6667\n",
            "Epoch 32/50\n",
            "3/3 [==============================] - 0s 80ms/step - loss: 0.2507 - accuracy: 0.8854 - val_loss: 0.7377 - val_accuracy: 0.6250\n",
            "Epoch 33/50\n",
            "3/3 [==============================] - 0s 79ms/step - loss: 0.2572 - accuracy: 0.9062 - val_loss: 0.7307 - val_accuracy: 0.6667\n",
            "Epoch 34/50\n",
            "3/3 [==============================] - 0s 77ms/step - loss: 0.2704 - accuracy: 0.9062 - val_loss: 0.7629 - val_accuracy: 0.6250\n",
            "Epoch 35/50\n",
            "3/3 [==============================] - 0s 74ms/step - loss: 0.2428 - accuracy: 0.8750 - val_loss: 0.8116 - val_accuracy: 0.5833\n",
            "Epoch 36/50\n",
            "3/3 [==============================] - 0s 76ms/step - loss: 0.2645 - accuracy: 0.8750 - val_loss: 0.8053 - val_accuracy: 0.6250\n",
            "Epoch 37/50\n",
            "3/3 [==============================] - 0s 80ms/step - loss: 0.2433 - accuracy: 0.8958 - val_loss: 0.8207 - val_accuracy: 0.6667\n",
            "Epoch 38/50\n",
            "3/3 [==============================] - 0s 74ms/step - loss: 0.2499 - accuracy: 0.8646 - val_loss: 0.7701 - val_accuracy: 0.6250\n",
            "Epoch 39/50\n",
            "3/3 [==============================] - 0s 78ms/step - loss: 0.2354 - accuracy: 0.9062 - val_loss: 0.8335 - val_accuracy: 0.5417\n",
            "Epoch 40/50\n",
            "3/3 [==============================] - 0s 79ms/step - loss: 0.2531 - accuracy: 0.8854 - val_loss: 0.8446 - val_accuracy: 0.5417\n",
            "Epoch 41/50\n",
            "3/3 [==============================] - 0s 82ms/step - loss: 0.2148 - accuracy: 0.9062 - val_loss: 0.7882 - val_accuracy: 0.5833\n",
            "Epoch 42/50\n",
            "3/3 [==============================] - 0s 75ms/step - loss: 0.2307 - accuracy: 0.8646 - val_loss: 0.8036 - val_accuracy: 0.6667\n",
            "Epoch 43/50\n",
            "3/3 [==============================] - 0s 74ms/step - loss: 0.2273 - accuracy: 0.9062 - val_loss: 0.8190 - val_accuracy: 0.6667\n",
            "Epoch 44/50\n",
            "3/3 [==============================] - 0s 77ms/step - loss: 0.2176 - accuracy: 0.8854 - val_loss: 0.8481 - val_accuracy: 0.6667\n",
            "Epoch 45/50\n",
            "3/3 [==============================] - 0s 82ms/step - loss: 0.1935 - accuracy: 0.9062 - val_loss: 0.8761 - val_accuracy: 0.6667\n",
            "Epoch 46/50\n",
            "3/3 [==============================] - 0s 83ms/step - loss: 0.2135 - accuracy: 0.9062 - val_loss: 0.8482 - val_accuracy: 0.6667\n",
            "Epoch 47/50\n",
            "3/3 [==============================] - 0s 77ms/step - loss: 0.1738 - accuracy: 0.9167 - val_loss: 0.8689 - val_accuracy: 0.5417\n",
            "Epoch 48/50\n",
            "3/3 [==============================] - 0s 73ms/step - loss: 0.2053 - accuracy: 0.8958 - val_loss: 0.9044 - val_accuracy: 0.5417\n",
            "Epoch 49/50\n",
            "3/3 [==============================] - 0s 81ms/step - loss: 0.1717 - accuracy: 0.9479 - val_loss: 0.8711 - val_accuracy: 0.5417\n",
            "Epoch 50/50\n",
            "3/3 [==============================] - 0s 74ms/step - loss: 0.1666 - accuracy: 0.9375 - val_loss: 0.9005 - val_accuracy: 0.5417\n"
          ]
        }
      ]
    },
    {
      "cell_type": "code",
      "metadata": {
        "colab": {
          "base_uri": "https://localhost:8080/"
        },
        "id": "y5ob1sFmmayx",
        "outputId": "f5f4feea-fc0f-4837-dcf7-d2fc89dd3d4a"
      },
      "source": [
        "print(classification_report(model.predict(test_sentences).round(), test_tags))"
      ],
      "execution_count": 84,
      "outputs": [
        {
          "output_type": "stream",
          "name": "stdout",
          "text": [
            "              precision    recall  f1-score   support\n",
            "\n",
            "         0.0       0.73      0.79      0.76        14\n",
            "         1.0       0.80      0.75      0.77        16\n",
            "\n",
            "    accuracy                           0.77        30\n",
            "   macro avg       0.77      0.77      0.77        30\n",
            "weighted avg       0.77      0.77      0.77        30\n",
            "\n"
          ]
        }
      ]
    },
    {
      "cell_type": "code",
      "metadata": {
        "id": "ts84utBdmoFV"
      },
      "source": [
        ""
      ],
      "execution_count": null,
      "outputs": []
    }
  ]
}