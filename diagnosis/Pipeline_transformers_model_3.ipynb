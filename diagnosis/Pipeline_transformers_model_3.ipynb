{
  "nbformat": 4,
  "nbformat_minor": 0,
  "metadata": {
    "kernelspec": {
      "display_name": "Python 3",
      "language": "python",
      "name": "python3"
    },
    "language_info": {
      "codemirror_mode": {
        "name": "ipython",
        "version": 3
      },
      "file_extension": ".py",
      "mimetype": "text/x-python",
      "name": "python",
      "nbconvert_exporter": "python",
      "pygments_lexer": "ipython3",
      "version": "3.7.4"
    },
    "colab": {
      "name": "Pipeline transformers model-3.ipynb",
      "provenance": [],
      "collapsed_sections": []
    },
    "accelerator": "GPU"
  },
  "cells": [
    {
      "cell_type": "markdown",
      "metadata": {
        "id": "t239bL-s4VKN"
      },
      "source": [
        "# Pakistani EDA"
      ]
    },
    {
      "cell_type": "code",
      "metadata": {
        "id": "zTf2u62t4VKW"
      },
      "source": [
        "import numpy as np\n",
        "import pandas as pd\n",
        "import sklearn.preprocessing \n",
        "import matplotlib.pyplot as plt\n",
        "import seaborn as sns\n",
        "%matplotlib inline\n",
        "import string\n",
        "import nltk\n",
        "from nltk.corpus import stopwords\n",
        "from textblob import Word\n",
        "from sklearn.preprocessing import LabelEncoder\n",
        "from collections import Counter\n",
        "import wordcloud\n",
        "from sklearn.metrics import classification_report,confusion_matrix,accuracy_score\n",
        "from keras.models import Sequential\n",
        "from keras.preprocessing.text import Tokenizer\n",
        "from keras.preprocessing.sequence import pad_sequences\n",
        "from keras.layers import Dense, Embedding, LSTM, SpatialDropout1D\n",
        "from sklearn.model_selection import train_test_split \n",
        "from keras.utils import np_utils\n",
        "from keras.layers.convolutional import Conv1D\n",
        "from keras.layers.convolutional import MaxPooling1D\n",
        "sns.set()"
      ],
      "execution_count": 1,
      "outputs": []
    },
    {
      "cell_type": "code",
      "metadata": {
        "colab": {
          "base_uri": "https://localhost:8080/"
        },
        "id": "h5Chhv7G4kq4",
        "outputId": "39e329ee-fafc-43d6-b1bf-b1755b3a9191"
      },
      "source": [
        "from google.colab import drive\n",
        "drive.mount('/content/drive')"
      ],
      "execution_count": 2,
      "outputs": [
        {
          "output_type": "stream",
          "name": "stdout",
          "text": [
            "Drive already mounted at /content/drive; to attempt to forcibly remount, call drive.mount(\"/content/drive\", force_remount=True).\n"
          ]
        }
      ]
    },
    {
      "cell_type": "code",
      "metadata": {
        "id": "s5eM1ajH4VKY"
      },
      "source": [
        "df=pd.read_excel(\"/content/drive/MyDrive/Colab Notebooks/Thesis/Bpd.xlsx\") "
      ],
      "execution_count": 3,
      "outputs": []
    },
    {
      "cell_type": "code",
      "metadata": {
        "colab": {
          "base_uri": "https://localhost:8080/",
          "height": 206
        },
        "id": "7JBsYJrC4VKZ",
        "outputId": "6fd36eb8-f274-498f-df06-ff0ca9b6f685"
      },
      "source": [
        "df.head()"
      ],
      "execution_count": 4,
      "outputs": [
        {
          "output_type": "execute_result",
          "data": {
            "text/html": [
              "<div>\n",
              "<style scoped>\n",
              "    .dataframe tbody tr th:only-of-type {\n",
              "        vertical-align: middle;\n",
              "    }\n",
              "\n",
              "    .dataframe tbody tr th {\n",
              "        vertical-align: top;\n",
              "    }\n",
              "\n",
              "    .dataframe thead th {\n",
              "        text-align: right;\n",
              "    }\n",
              "</style>\n",
              "<table border=\"1\" class=\"dataframe\">\n",
              "  <thead>\n",
              "    <tr style=\"text-align: right;\">\n",
              "      <th></th>\n",
              "      <th>Cases</th>\n",
              "      <th>Diagnosis</th>\n",
              "      <th>Mood-Stabilizer</th>\n",
              "      <th>Antipsychotic</th>\n",
              "      <th>Sleeping pills</th>\n",
              "    </tr>\n",
              "  </thead>\n",
              "  <tbody>\n",
              "    <tr>\n",
              "      <th>0</th>\n",
              "      <td>Patient displayed aggressive and violent behav...</td>\n",
              "      <td>Bipolar I</td>\n",
              "      <td>Lithium</td>\n",
              "      <td>Seroquel</td>\n",
              "      <td>Rivotril</td>\n",
              "    </tr>\n",
              "    <tr>\n",
              "      <th>1</th>\n",
              "      <td>The patient exhibited aggressive and violent b...</td>\n",
              "      <td>Bipolar I</td>\n",
              "      <td>Lithium</td>\n",
              "      <td>Seroquel</td>\n",
              "      <td>Rivotril</td>\n",
              "    </tr>\n",
              "    <tr>\n",
              "      <th>2</th>\n",
              "      <td>The patient had ADHD like systems and extremel...</td>\n",
              "      <td>Bipolar I</td>\n",
              "      <td>Lithium</td>\n",
              "      <td>Seroquel</td>\n",
              "      <td>Rivotril</td>\n",
              "    </tr>\n",
              "    <tr>\n",
              "      <th>3</th>\n",
              "      <td>The patient lacks the attention span and obser...</td>\n",
              "      <td>Bipolar I</td>\n",
              "      <td>Lithium</td>\n",
              "      <td>Seroquel</td>\n",
              "      <td>Rivotril</td>\n",
              "    </tr>\n",
              "    <tr>\n",
              "      <th>4</th>\n",
              "      <td>The patient showed several inability to focus ...</td>\n",
              "      <td>Bipolar I</td>\n",
              "      <td>Lithium</td>\n",
              "      <td>Seroquel</td>\n",
              "      <td>Rivotril</td>\n",
              "    </tr>\n",
              "  </tbody>\n",
              "</table>\n",
              "</div>"
            ],
            "text/plain": [
              "                                               Cases  ... Sleeping pills\n",
              "0  Patient displayed aggressive and violent behav...  ...       Rivotril\n",
              "1  The patient exhibited aggressive and violent b...  ...       Rivotril\n",
              "2  The patient had ADHD like systems and extremel...  ...       Rivotril\n",
              "3  The patient lacks the attention span and obser...  ...       Rivotril\n",
              "4  The patient showed several inability to focus ...  ...       Rivotril\n",
              "\n",
              "[5 rows x 5 columns]"
            ]
          },
          "metadata": {},
          "execution_count": 4
        }
      ]
    },
    {
      "cell_type": "code",
      "metadata": {
        "colab": {
          "base_uri": "https://localhost:8080/",
          "height": 206
        },
        "id": "g1Vrfing4VKb",
        "outputId": "bf4b1cba-1011-4e0d-e53b-7ccb0221204f"
      },
      "source": [
        "df.tail()"
      ],
      "execution_count": 5,
      "outputs": [
        {
          "output_type": "execute_result",
          "data": {
            "text/html": [
              "<div>\n",
              "<style scoped>\n",
              "    .dataframe tbody tr th:only-of-type {\n",
              "        vertical-align: middle;\n",
              "    }\n",
              "\n",
              "    .dataframe tbody tr th {\n",
              "        vertical-align: top;\n",
              "    }\n",
              "\n",
              "    .dataframe thead th {\n",
              "        text-align: right;\n",
              "    }\n",
              "</style>\n",
              "<table border=\"1\" class=\"dataframe\">\n",
              "  <thead>\n",
              "    <tr style=\"text-align: right;\">\n",
              "      <th></th>\n",
              "      <th>Cases</th>\n",
              "      <th>Diagnosis</th>\n",
              "      <th>Mood-Stabilizer</th>\n",
              "      <th>Antipsychotic</th>\n",
              "      <th>Sleeping pills</th>\n",
              "    </tr>\n",
              "  </thead>\n",
              "  <tbody>\n",
              "    <tr>\n",
              "      <th>145</th>\n",
              "      <td>The patient experienced extreme mood swings, c...</td>\n",
              "      <td>BipolarII</td>\n",
              "      <td>Epival</td>\n",
              "      <td>Risperidone</td>\n",
              "      <td>None</td>\n",
              "    </tr>\n",
              "    <tr>\n",
              "      <th>146</th>\n",
              "      <td>The patient beat his family in a crazy frenzy,...</td>\n",
              "      <td>BipolarII</td>\n",
              "      <td>Epival</td>\n",
              "      <td>Risperidone</td>\n",
              "      <td>None</td>\n",
              "    </tr>\n",
              "    <tr>\n",
              "      <th>147</th>\n",
              "      <td>The patient was addicted to drugs in a manic p...</td>\n",
              "      <td>BipolarII</td>\n",
              "      <td>Epival</td>\n",
              "      <td>Risperidone</td>\n",
              "      <td>None</td>\n",
              "    </tr>\n",
              "    <tr>\n",
              "      <th>148</th>\n",
              "      <td>The patient lived in isolation, playing video ...</td>\n",
              "      <td>BipolarII</td>\n",
              "      <td>Epival</td>\n",
              "      <td>Risperidone</td>\n",
              "      <td>None</td>\n",
              "    </tr>\n",
              "    <tr>\n",
              "      <th>149</th>\n",
              "      <td>The patient violently attacked a classmate dur...</td>\n",
              "      <td>BipolarII</td>\n",
              "      <td>Epival</td>\n",
              "      <td>Risperidone</td>\n",
              "      <td>None</td>\n",
              "    </tr>\n",
              "  </tbody>\n",
              "</table>\n",
              "</div>"
            ],
            "text/plain": [
              "                                                 Cases  ... Sleeping pills\n",
              "145  The patient experienced extreme mood swings, c...  ...           None\n",
              "146  The patient beat his family in a crazy frenzy,...  ...           None\n",
              "147  The patient was addicted to drugs in a manic p...  ...           None\n",
              "148  The patient lived in isolation, playing video ...  ...           None\n",
              "149  The patient violently attacked a classmate dur...  ...           None\n",
              "\n",
              "[5 rows x 5 columns]"
            ]
          },
          "metadata": {},
          "execution_count": 5
        }
      ]
    },
    {
      "cell_type": "code",
      "metadata": {
        "colab": {
          "base_uri": "https://localhost:8080/"
        },
        "id": "-YILxmnk4VKc",
        "outputId": "56384b6e-4728-4a05-c60f-8fa8c569dc7f"
      },
      "source": [
        "df['Diagnosis'].value_counts()"
      ],
      "execution_count": 6,
      "outputs": [
        {
          "output_type": "execute_result",
          "data": {
            "text/plain": [
              "BipolarII    75\n",
              "Bipolar I    75\n",
              "Name: Diagnosis, dtype: int64"
            ]
          },
          "metadata": {},
          "execution_count": 6
        }
      ]
    },
    {
      "cell_type": "code",
      "metadata": {
        "colab": {
          "base_uri": "https://localhost:8080/"
        },
        "id": "T0DSAJKm4VKd",
        "outputId": "3fa6b404-0f16-457b-d76e-f8911981a77a"
      },
      "source": [
        "df['Mood-Stabilizer'].value_counts()"
      ],
      "execution_count": 7,
      "outputs": [
        {
          "output_type": "execute_result",
          "data": {
            "text/plain": [
              "Epival     75\n",
              "Lithium    75\n",
              "Name: Mood-Stabilizer, dtype: int64"
            ]
          },
          "metadata": {},
          "execution_count": 7
        }
      ]
    },
    {
      "cell_type": "code",
      "metadata": {
        "colab": {
          "base_uri": "https://localhost:8080/"
        },
        "id": "--Ur5qa34VKe",
        "outputId": "6f42de55-1f7d-464b-cc12-1383859b2158"
      },
      "source": [
        "df['Antipsychotic'].value_counts()"
      ],
      "execution_count": 8,
      "outputs": [
        {
          "output_type": "execute_result",
          "data": {
            "text/plain": [
              "Seroquel       75\n",
              "Risperidone    75\n",
              "Name: Antipsychotic, dtype: int64"
            ]
          },
          "metadata": {},
          "execution_count": 8
        }
      ]
    },
    {
      "cell_type": "code",
      "metadata": {
        "colab": {
          "base_uri": "https://localhost:8080/"
        },
        "id": "Ksb5tjrp4VKf",
        "outputId": "dbd1989b-b203-4635-a4b1-181bee841fb1"
      },
      "source": [
        "df.dtypes"
      ],
      "execution_count": 9,
      "outputs": [
        {
          "output_type": "execute_result",
          "data": {
            "text/plain": [
              "Cases              object\n",
              "Diagnosis          object\n",
              "Mood-Stabilizer    object\n",
              "Antipsychotic      object\n",
              "Sleeping pills     object\n",
              "dtype: object"
            ]
          },
          "metadata": {},
          "execution_count": 9
        }
      ]
    },
    {
      "cell_type": "code",
      "metadata": {
        "colab": {
          "base_uri": "https://localhost:8080/"
        },
        "id": "QVnrttpC4VKg",
        "outputId": "36794359-308a-48ed-a58d-8636da08a58c"
      },
      "source": [
        "df.shape"
      ],
      "execution_count": 10,
      "outputs": [
        {
          "output_type": "execute_result",
          "data": {
            "text/plain": [
              "(150, 5)"
            ]
          },
          "metadata": {},
          "execution_count": 10
        }
      ]
    },
    {
      "cell_type": "code",
      "metadata": {
        "colab": {
          "base_uri": "https://localhost:8080/",
          "height": 175
        },
        "id": "cvH3PlMc4VKh",
        "outputId": "9c761a70-131e-4129-fa77-17dcf3635dc2"
      },
      "source": [
        "df.describe()"
      ],
      "execution_count": 11,
      "outputs": [
        {
          "output_type": "execute_result",
          "data": {
            "text/html": [
              "<div>\n",
              "<style scoped>\n",
              "    .dataframe tbody tr th:only-of-type {\n",
              "        vertical-align: middle;\n",
              "    }\n",
              "\n",
              "    .dataframe tbody tr th {\n",
              "        vertical-align: top;\n",
              "    }\n",
              "\n",
              "    .dataframe thead th {\n",
              "        text-align: right;\n",
              "    }\n",
              "</style>\n",
              "<table border=\"1\" class=\"dataframe\">\n",
              "  <thead>\n",
              "    <tr style=\"text-align: right;\">\n",
              "      <th></th>\n",
              "      <th>Cases</th>\n",
              "      <th>Diagnosis</th>\n",
              "      <th>Mood-Stabilizer</th>\n",
              "      <th>Antipsychotic</th>\n",
              "      <th>Sleeping pills</th>\n",
              "    </tr>\n",
              "  </thead>\n",
              "  <tbody>\n",
              "    <tr>\n",
              "      <th>count</th>\n",
              "      <td>150</td>\n",
              "      <td>150</td>\n",
              "      <td>150</td>\n",
              "      <td>150</td>\n",
              "      <td>150</td>\n",
              "    </tr>\n",
              "    <tr>\n",
              "      <th>unique</th>\n",
              "      <td>150</td>\n",
              "      <td>2</td>\n",
              "      <td>2</td>\n",
              "      <td>2</td>\n",
              "      <td>2</td>\n",
              "    </tr>\n",
              "    <tr>\n",
              "      <th>top</th>\n",
              "      <td>The patient had a less calm period in his life...</td>\n",
              "      <td>BipolarII</td>\n",
              "      <td>Epival</td>\n",
              "      <td>Seroquel</td>\n",
              "      <td>Rivotril</td>\n",
              "    </tr>\n",
              "    <tr>\n",
              "      <th>freq</th>\n",
              "      <td>1</td>\n",
              "      <td>75</td>\n",
              "      <td>75</td>\n",
              "      <td>75</td>\n",
              "      <td>75</td>\n",
              "    </tr>\n",
              "  </tbody>\n",
              "</table>\n",
              "</div>"
            ],
            "text/plain": [
              "                                                    Cases  ... Sleeping pills\n",
              "count                                                 150  ...            150\n",
              "unique                                                150  ...              2\n",
              "top     The patient had a less calm period in his life...  ...       Rivotril\n",
              "freq                                                    1  ...             75\n",
              "\n",
              "[4 rows x 5 columns]"
            ]
          },
          "metadata": {},
          "execution_count": 11
        }
      ]
    },
    {
      "cell_type": "code",
      "metadata": {
        "colab": {
          "base_uri": "https://localhost:8080/",
          "height": 459
        },
        "id": "3Jz4720h4VKi",
        "outputId": "eaa513b0-9378-4b58-ebe3-76d18dbc26e7"
      },
      "source": [
        "plt.figure(figsize=(15,6))\n",
        "sns.countplot(x=\"Diagnosis\",hue=\"Diagnosis\",data=df,)\n",
        "plt.legend(bbox_to_anchor=(1.05, 1), loc=2, borderaxespad=0.,prop={'size': 30})\n",
        "plt.xticks(fontsize=30)\n",
        "plt.yticks(fontsize=25)\n",
        "plt.title(\"Diagnosis\",fontsize=30)"
      ],
      "execution_count": 12,
      "outputs": [
        {
          "output_type": "execute_result",
          "data": {
            "text/plain": [
              "Text(0.5, 1.0, 'Diagnosis')"
            ]
          },
          "metadata": {},
          "execution_count": 12
        },
        {
          "output_type": "display_data",
          "data": {
            "image/png": "[encoded data removed]",
            "text/plain": [
              "<Figure size 1080x432 with 1 Axes>"
            ]
          },
          "metadata": {
            "needs_background": "light"
          }
        }
      ]
    },
    {
      "cell_type": "code",
      "metadata": {
        "colab": {
          "base_uri": "https://localhost:8080/",
          "height": 459
        },
        "id": "Q6nAI1yu4VKj",
        "outputId": "abb93e92-10c2-4f75-e216-422312c2b75a"
      },
      "source": [
        "plt.figure(figsize=(15,6))\n",
        "sns.countplot(x=\"Mood-Stabilizer\",hue=\"Diagnosis\",data=df,palette=\"Set1\")\n",
        "plt.legend(bbox_to_anchor=(1.05, 1), loc=2, borderaxespad=0.,prop={'size': 30})\n",
        "plt.xticks(fontsize=30)\n",
        "plt.yticks(fontsize=25)\n",
        "plt.title(\"Mood Stabilizer\",fontsize=30)"
      ],
      "execution_count": 13,
      "outputs": [
        {
          "output_type": "execute_result",
          "data": {
            "text/plain": [
              "Text(0.5, 1.0, 'Mood Stabilizer')"
            ]
          },
          "metadata": {},
          "execution_count": 13
        },
        {
          "output_type": "display_data",
          "data": {
            "image/png": "[encoded data removed]",
            "text/plain": [
              "<Figure size 1080x432 with 1 Axes>"
            ]
          },
          "metadata": {
            "needs_background": "light"
          }
        }
      ]
    },
    {
      "cell_type": "code",
      "metadata": {
        "colab": {
          "base_uri": "https://localhost:8080/",
          "height": 459
        },
        "id": "qpJQrlOF4VKk",
        "outputId": "e6e64fa0-7b32-41fc-8c4b-008281f9b343"
      },
      "source": [
        "plt.figure(figsize=(15,6))\n",
        "sns.countplot(x=\"Antipsychotic\",hue=\"Diagnosis\",data=df,palette=\"Set2\")\n",
        "plt.legend(bbox_to_anchor=(1.05, 1), loc=2, borderaxespad=0.,prop={'size': 30})\n",
        "plt.xticks(fontsize=30)\n",
        "plt.yticks(fontsize=25)\n",
        "plt.title(\"Antipsychotic\",fontsize=30)"
      ],
      "execution_count": 14,
      "outputs": [
        {
          "output_type": "execute_result",
          "data": {
            "text/plain": [
              "Text(0.5, 1.0, 'Antipsychotic')"
            ]
          },
          "metadata": {},
          "execution_count": 14
        },
        {
          "output_type": "display_data",
          "data": {
            "image/png": "[encoded data removed]",
            "text/plain": [
              "<Figure size 1080x432 with 1 Axes>"
            ]
          },
          "metadata": {
            "needs_background": "light"
          }
        }
      ]
    },
    {
      "cell_type": "code",
      "metadata": {
        "colab": {
          "base_uri": "https://localhost:8080/",
          "height": 459
        },
        "id": "bGN2j8i-4VKl",
        "outputId": "b404334c-48f7-46f6-d716-79d0fdb3d83e"
      },
      "source": [
        "plt.figure(figsize=(15,6))\n",
        "sns.countplot(x=\"Sleeping pills\",hue=\"Diagnosis\",data=df,palette=\"Set3\")\n",
        "plt.legend(bbox_to_anchor=(1.05, 1), loc=2, borderaxespad=0.,prop={'size': 30})\n",
        "plt.xticks(fontsize=30)\n",
        "plt.yticks(fontsize=25)\n",
        "plt.title(\"Sleeping Pills\",fontsize=30)"
      ],
      "execution_count": 15,
      "outputs": [
        {
          "output_type": "execute_result",
          "data": {
            "text/plain": [
              "Text(0.5, 1.0, 'Sleeping Pills')"
            ]
          },
          "metadata": {},
          "execution_count": 15
        },
        {
          "output_type": "display_data",
          "data": {
            "image/png": "[encoded data removed]",
            "text/plain": [
              "<Figure size 1080x432 with 1 Axes>"
            ]
          },
          "metadata": {
            "needs_background": "light"
          }
        }
      ]
    },
    {
      "cell_type": "code",
      "metadata": {
        "id": "TTQjPA_j4VKl"
      },
      "source": [
        "PUNCT_TO_REMOVE = string.punctuation\n",
        "def remove_punctuation(text):\n",
        "    \"\"\"custom function to remove the punctuation\"\"\"\n",
        "    return text.translate(str.maketrans('', '', PUNCT_TO_REMOVE))"
      ],
      "execution_count": 16,
      "outputs": []
    },
    {
      "cell_type": "code",
      "metadata": {
        "colab": {
          "base_uri": "https://localhost:8080/"
        },
        "id": "bR-WSUn94_Yl",
        "outputId": "8a9d50f4-3900-41dd-f551-41fee823bd34"
      },
      "source": [
        "nltk.download('stopwords')\n",
        "nltk.download('wordnet')"
      ],
      "execution_count": 17,
      "outputs": [
        {
          "output_type": "stream",
          "name": "stdout",
          "text": [
            "[nltk_data] Downloading package stopwords to /root/nltk_data...\n",
            "[nltk_data]   Package stopwords is already up-to-date!\n",
            "[nltk_data] Downloading package wordnet to /root/nltk_data...\n",
            "[nltk_data]   Package wordnet is already up-to-date!\n"
          ]
        },
        {
          "output_type": "execute_result",
          "data": {
            "text/plain": [
              "True"
            ]
          },
          "metadata": {},
          "execution_count": 17
        }
      ]
    },
    {
      "cell_type": "code",
      "metadata": {
        "colab": {
          "base_uri": "https://localhost:8080/"
        },
        "id": "dzYRYfZ25JH9",
        "outputId": "1ef5bce7-981a-426b-d4e2-de468cc9b234"
      },
      "source": [
        "df1 = df[['Cases','Diagnosis']]\n",
        "df1.isnull().sum()"
      ],
      "execution_count": 18,
      "outputs": [
        {
          "output_type": "execute_result",
          "data": {
            "text/plain": [
              "Cases        0\n",
              "Diagnosis    0\n",
              "dtype: int64"
            ]
          },
          "metadata": {},
          "execution_count": 18
        }
      ]
    },
    {
      "cell_type": "code",
      "metadata": {
        "colab": {
          "base_uri": "https://localhost:8080/",
          "height": 206
        },
        "id": "694QEx_c5RI-",
        "outputId": "a1ca3a12-5108-4829-8f22-c7f906cad0ce"
      },
      "source": [
        "df1.head()"
      ],
      "execution_count": 19,
      "outputs": [
        {
          "output_type": "execute_result",
          "data": {
            "text/html": [
              "<div>\n",
              "<style scoped>\n",
              "    .dataframe tbody tr th:only-of-type {\n",
              "        vertical-align: middle;\n",
              "    }\n",
              "\n",
              "    .dataframe tbody tr th {\n",
              "        vertical-align: top;\n",
              "    }\n",
              "\n",
              "    .dataframe thead th {\n",
              "        text-align: right;\n",
              "    }\n",
              "</style>\n",
              "<table border=\"1\" class=\"dataframe\">\n",
              "  <thead>\n",
              "    <tr style=\"text-align: right;\">\n",
              "      <th></th>\n",
              "      <th>Cases</th>\n",
              "      <th>Diagnosis</th>\n",
              "    </tr>\n",
              "  </thead>\n",
              "  <tbody>\n",
              "    <tr>\n",
              "      <th>0</th>\n",
              "      <td>Patient displayed aggressive and violent behav...</td>\n",
              "      <td>Bipolar I</td>\n",
              "    </tr>\n",
              "    <tr>\n",
              "      <th>1</th>\n",
              "      <td>The patient exhibited aggressive and violent b...</td>\n",
              "      <td>Bipolar I</td>\n",
              "    </tr>\n",
              "    <tr>\n",
              "      <th>2</th>\n",
              "      <td>The patient had ADHD like systems and extremel...</td>\n",
              "      <td>Bipolar I</td>\n",
              "    </tr>\n",
              "    <tr>\n",
              "      <th>3</th>\n",
              "      <td>The patient lacks the attention span and obser...</td>\n",
              "      <td>Bipolar I</td>\n",
              "    </tr>\n",
              "    <tr>\n",
              "      <th>4</th>\n",
              "      <td>The patient showed several inability to focus ...</td>\n",
              "      <td>Bipolar I</td>\n",
              "    </tr>\n",
              "  </tbody>\n",
              "</table>\n",
              "</div>"
            ],
            "text/plain": [
              "                                               Cases  Diagnosis\n",
              "0  Patient displayed aggressive and violent behav...  Bipolar I\n",
              "1  The patient exhibited aggressive and violent b...  Bipolar I\n",
              "2  The patient had ADHD like systems and extremel...  Bipolar I\n",
              "3  The patient lacks the attention span and obser...  Bipolar I\n",
              "4  The patient showed several inability to focus ...  Bipolar I"
            ]
          },
          "metadata": {},
          "execution_count": 19
        }
      ]
    },
    {
      "cell_type": "code",
      "metadata": {
        "colab": {
          "base_uri": "https://localhost:8080/",
          "height": 206
        },
        "id": "uIkdP3Ga5TsM",
        "outputId": "538a5e85-eac5-479d-a164-cc8d16bd8eb3"
      },
      "source": [
        "df1.tail()"
      ],
      "execution_count": 20,
      "outputs": [
        {
          "output_type": "execute_result",
          "data": {
            "text/html": [
              "<div>\n",
              "<style scoped>\n",
              "    .dataframe tbody tr th:only-of-type {\n",
              "        vertical-align: middle;\n",
              "    }\n",
              "\n",
              "    .dataframe tbody tr th {\n",
              "        vertical-align: top;\n",
              "    }\n",
              "\n",
              "    .dataframe thead th {\n",
              "        text-align: right;\n",
              "    }\n",
              "</style>\n",
              "<table border=\"1\" class=\"dataframe\">\n",
              "  <thead>\n",
              "    <tr style=\"text-align: right;\">\n",
              "      <th></th>\n",
              "      <th>Cases</th>\n",
              "      <th>Diagnosis</th>\n",
              "    </tr>\n",
              "  </thead>\n",
              "  <tbody>\n",
              "    <tr>\n",
              "      <th>145</th>\n",
              "      <td>The patient experienced extreme mood swings, c...</td>\n",
              "      <td>BipolarII</td>\n",
              "    </tr>\n",
              "    <tr>\n",
              "      <th>146</th>\n",
              "      <td>The patient beat his family in a crazy frenzy,...</td>\n",
              "      <td>BipolarII</td>\n",
              "    </tr>\n",
              "    <tr>\n",
              "      <th>147</th>\n",
              "      <td>The patient was addicted to drugs in a manic p...</td>\n",
              "      <td>BipolarII</td>\n",
              "    </tr>\n",
              "    <tr>\n",
              "      <th>148</th>\n",
              "      <td>The patient lived in isolation, playing video ...</td>\n",
              "      <td>BipolarII</td>\n",
              "    </tr>\n",
              "    <tr>\n",
              "      <th>149</th>\n",
              "      <td>The patient violently attacked a classmate dur...</td>\n",
              "      <td>BipolarII</td>\n",
              "    </tr>\n",
              "  </tbody>\n",
              "</table>\n",
              "</div>"
            ],
            "text/plain": [
              "                                                 Cases  Diagnosis\n",
              "145  The patient experienced extreme mood swings, c...  BipolarII\n",
              "146  The patient beat his family in a crazy frenzy,...  BipolarII\n",
              "147  The patient was addicted to drugs in a manic p...  BipolarII\n",
              "148  The patient lived in isolation, playing video ...  BipolarII\n",
              "149  The patient violently attacked a classmate dur...  BipolarII"
            ]
          },
          "metadata": {},
          "execution_count": 20
        }
      ]
    },
    {
      "cell_type": "code",
      "metadata": {
        "id": "rPDcIYe15VaU"
      },
      "source": [
        "    #lower casing\n",
        "    df['Cases'] = df['Cases'].str.lower()\n",
        "\n",
        "    #punctuation removal         \n",
        "    df[\"Cases\"] = df[\"Cases\"].apply(lambda text: remove_punctuation(text))"
      ],
      "execution_count": 21,
      "outputs": []
    },
    {
      "cell_type": "code",
      "metadata": {
        "id": "dCFo9vsmv_8t"
      },
      "source": [
        "df2=df1"
      ],
      "execution_count": 22,
      "outputs": []
    },
    {
      "cell_type": "code",
      "metadata": {
        "id": "vv2pzBsOc50s"
      },
      "source": [
        "X=list(df2['Cases'])\n",
        "y=list(df2['Diagnosis'])"
      ],
      "execution_count": 23,
      "outputs": []
    },
    {
      "cell_type": "code",
      "metadata": {
        "colab": {
          "base_uri": "https://localhost:8080/"
        },
        "id": "gU0Xh1PhhLbx",
        "outputId": "e0c2402b-ba09-4dde-a1c1-e9da627d26ec"
      },
      "source": [
        "y"
      ],
      "execution_count": 24,
      "outputs": [
        {
          "output_type": "execute_result",
          "data": {
            "text/plain": [
              "['Bipolar I',\n",
              " 'Bipolar I',\n",
              " 'Bipolar I',\n",
              " 'Bipolar I',\n",
              " 'Bipolar I',\n",
              " 'Bipolar I',\n",
              " 'Bipolar I',\n",
              " 'Bipolar I',\n",
              " 'Bipolar I',\n",
              " 'Bipolar I',\n",
              " 'Bipolar I',\n",
              " 'Bipolar I',\n",
              " 'Bipolar I',\n",
              " 'Bipolar I',\n",
              " 'Bipolar I',\n",
              " 'Bipolar I',\n",
              " 'Bipolar I',\n",
              " 'Bipolar I',\n",
              " 'Bipolar I',\n",
              " 'Bipolar I',\n",
              " 'Bipolar I',\n",
              " 'Bipolar I',\n",
              " 'Bipolar I',\n",
              " 'Bipolar I',\n",
              " 'Bipolar I',\n",
              " 'Bipolar I',\n",
              " 'Bipolar I',\n",
              " 'Bipolar I',\n",
              " 'Bipolar I',\n",
              " 'Bipolar I',\n",
              " 'Bipolar I',\n",
              " 'Bipolar I',\n",
              " 'Bipolar I',\n",
              " 'Bipolar I',\n",
              " 'Bipolar I',\n",
              " 'Bipolar I',\n",
              " 'Bipolar I',\n",
              " 'Bipolar I',\n",
              " 'Bipolar I',\n",
              " 'Bipolar I',\n",
              " 'Bipolar I',\n",
              " 'Bipolar I',\n",
              " 'Bipolar I',\n",
              " 'Bipolar I',\n",
              " 'Bipolar I',\n",
              " 'Bipolar I',\n",
              " 'Bipolar I',\n",
              " 'Bipolar I',\n",
              " 'Bipolar I',\n",
              " 'Bipolar I',\n",
              " 'BipolarII',\n",
              " 'BipolarII',\n",
              " 'BipolarII',\n",
              " 'BipolarII',\n",
              " 'BipolarII',\n",
              " 'BipolarII',\n",
              " 'BipolarII',\n",
              " 'BipolarII',\n",
              " 'BipolarII',\n",
              " 'BipolarII',\n",
              " 'BipolarII',\n",
              " 'BipolarII',\n",
              " 'BipolarII',\n",
              " 'BipolarII',\n",
              " 'BipolarII',\n",
              " 'BipolarII',\n",
              " 'BipolarII',\n",
              " 'BipolarII',\n",
              " 'BipolarII',\n",
              " 'BipolarII',\n",
              " 'BipolarII',\n",
              " 'BipolarII',\n",
              " 'BipolarII',\n",
              " 'BipolarII',\n",
              " 'BipolarII',\n",
              " 'BipolarII',\n",
              " 'BipolarII',\n",
              " 'BipolarII',\n",
              " 'BipolarII',\n",
              " 'BipolarII',\n",
              " 'BipolarII',\n",
              " 'BipolarII',\n",
              " 'BipolarII',\n",
              " 'BipolarII',\n",
              " 'BipolarII',\n",
              " 'BipolarII',\n",
              " 'BipolarII',\n",
              " 'BipolarII',\n",
              " 'BipolarII',\n",
              " 'BipolarII',\n",
              " 'BipolarII',\n",
              " 'BipolarII',\n",
              " 'BipolarII',\n",
              " 'BipolarII',\n",
              " 'BipolarII',\n",
              " 'BipolarII',\n",
              " 'BipolarII',\n",
              " 'BipolarII',\n",
              " 'BipolarII',\n",
              " 'BipolarII',\n",
              " 'Bipolar I',\n",
              " 'Bipolar I',\n",
              " 'Bipolar I',\n",
              " 'Bipolar I',\n",
              " 'Bipolar I',\n",
              " 'Bipolar I',\n",
              " 'Bipolar I',\n",
              " 'Bipolar I',\n",
              " 'Bipolar I',\n",
              " 'Bipolar I',\n",
              " 'Bipolar I',\n",
              " 'Bipolar I',\n",
              " 'Bipolar I',\n",
              " 'Bipolar I',\n",
              " 'Bipolar I',\n",
              " 'Bipolar I',\n",
              " 'Bipolar I',\n",
              " 'Bipolar I',\n",
              " 'Bipolar I',\n",
              " 'Bipolar I',\n",
              " 'Bipolar I',\n",
              " 'Bipolar I',\n",
              " 'Bipolar I',\n",
              " 'Bipolar I',\n",
              " 'Bipolar I',\n",
              " 'BipolarII',\n",
              " 'BipolarII',\n",
              " 'BipolarII',\n",
              " 'BipolarII',\n",
              " 'BipolarII',\n",
              " 'BipolarII',\n",
              " 'BipolarII',\n",
              " 'BipolarII',\n",
              " 'BipolarII',\n",
              " 'BipolarII',\n",
              " 'BipolarII',\n",
              " 'BipolarII',\n",
              " 'BipolarII',\n",
              " 'BipolarII',\n",
              " 'BipolarII',\n",
              " 'BipolarII',\n",
              " 'BipolarII',\n",
              " 'BipolarII',\n",
              " 'BipolarII',\n",
              " 'BipolarII',\n",
              " 'BipolarII',\n",
              " 'BipolarII',\n",
              " 'BipolarII',\n",
              " 'BipolarII',\n",
              " 'BipolarII']"
            ]
          },
          "metadata": {},
          "execution_count": 24
        }
      ]
    },
    {
      "cell_type": "code",
      "metadata": {
        "id": "oRW9K5qhg1rp"
      },
      "source": [
        "\n",
        "y=list(pd.get_dummies(y,drop_first=True)['BipolarII'])\n"
      ],
      "execution_count": 25,
      "outputs": []
    },
    {
      "cell_type": "code",
      "metadata": {
        "colab": {
          "base_uri": "https://localhost:8080/"
        },
        "id": "QWNSw-v_hWdr",
        "outputId": "bdedcc9a-d380-418f-beaa-c881d3aaac29"
      },
      "source": [
        "y"
      ],
      "execution_count": 26,
      "outputs": [
        {
          "output_type": "execute_result",
          "data": {
            "text/plain": [
              "[0,\n",
              " 0,\n",
              " 0,\n",
              " 0,\n",
              " 0,\n",
              " 0,\n",
              " 0,\n",
              " 0,\n",
              " 0,\n",
              " 0,\n",
              " 0,\n",
              " 0,\n",
              " 0,\n",
              " 0,\n",
              " 0,\n",
              " 0,\n",
              " 0,\n",
              " 0,\n",
              " 0,\n",
              " 0,\n",
              " 0,\n",
              " 0,\n",
              " 0,\n",
              " 0,\n",
              " 0,\n",
              " 0,\n",
              " 0,\n",
              " 0,\n",
              " 0,\n",
              " 0,\n",
              " 0,\n",
              " 0,\n",
              " 0,\n",
              " 0,\n",
              " 0,\n",
              " 0,\n",
              " 0,\n",
              " 0,\n",
              " 0,\n",
              " 0,\n",
              " 0,\n",
              " 0,\n",
              " 0,\n",
              " 0,\n",
              " 0,\n",
              " 0,\n",
              " 0,\n",
              " 0,\n",
              " 0,\n",
              " 0,\n",
              " 1,\n",
              " 1,\n",
              " 1,\n",
              " 1,\n",
              " 1,\n",
              " 1,\n",
              " 1,\n",
              " 1,\n",
              " 1,\n",
              " 1,\n",
              " 1,\n",
              " 1,\n",
              " 1,\n",
              " 1,\n",
              " 1,\n",
              " 1,\n",
              " 1,\n",
              " 1,\n",
              " 1,\n",
              " 1,\n",
              " 1,\n",
              " 1,\n",
              " 1,\n",
              " 1,\n",
              " 1,\n",
              " 1,\n",
              " 1,\n",
              " 1,\n",
              " 1,\n",
              " 1,\n",
              " 1,\n",
              " 1,\n",
              " 1,\n",
              " 1,\n",
              " 1,\n",
              " 1,\n",
              " 1,\n",
              " 1,\n",
              " 1,\n",
              " 1,\n",
              " 1,\n",
              " 1,\n",
              " 1,\n",
              " 1,\n",
              " 1,\n",
              " 1,\n",
              " 1,\n",
              " 1,\n",
              " 1,\n",
              " 1,\n",
              " 0,\n",
              " 0,\n",
              " 0,\n",
              " 0,\n",
              " 0,\n",
              " 0,\n",
              " 0,\n",
              " 0,\n",
              " 0,\n",
              " 0,\n",
              " 0,\n",
              " 0,\n",
              " 0,\n",
              " 0,\n",
              " 0,\n",
              " 0,\n",
              " 0,\n",
              " 0,\n",
              " 0,\n",
              " 0,\n",
              " 0,\n",
              " 0,\n",
              " 0,\n",
              " 0,\n",
              " 0,\n",
              " 1,\n",
              " 1,\n",
              " 1,\n",
              " 1,\n",
              " 1,\n",
              " 1,\n",
              " 1,\n",
              " 1,\n",
              " 1,\n",
              " 1,\n",
              " 1,\n",
              " 1,\n",
              " 1,\n",
              " 1,\n",
              " 1,\n",
              " 1,\n",
              " 1,\n",
              " 1,\n",
              " 1,\n",
              " 1,\n",
              " 1,\n",
              " 1,\n",
              " 1,\n",
              " 1,\n",
              " 1]"
            ]
          },
          "metadata": {},
          "execution_count": 26
        }
      ]
    },
    {
      "cell_type": "code",
      "metadata": {
        "colab": {
          "base_uri": "https://localhost:8080/"
        },
        "id": "PNQLcdpXiFIm",
        "outputId": "0f576dbb-f2c5-42a4-93d4-681cff7fa592"
      },
      "source": [
        "len(y)"
      ],
      "execution_count": 27,
      "outputs": [
        {
          "output_type": "execute_result",
          "data": {
            "text/plain": [
              "150"
            ]
          },
          "metadata": {},
          "execution_count": 27
        }
      ]
    },
    {
      "cell_type": "code",
      "metadata": {
        "id": "q8stYrN2wODG"
      },
      "source": [
        "from sklearn.model_selection import train_test_split#stratify ensures balance between spam and no spam in test and train\n",
        "xtrain, xtest, ytrain, ytest =train_test_split(X, y, \n",
        "                                random_state=2018, \n",
        "                                test_size=0.1, \n",
        "                                stratify=y)"
      ],
      "execution_count": 28,
      "outputs": []
    },
    {
      "cell_type": "code",
      "metadata": {
        "colab": {
          "base_uri": "https://localhost:8080/"
        },
        "id": "CRtyj780bud1",
        "outputId": "71a63b52-aeb1-4a98-a6e8-6f280d66f171"
      },
      "source": [
        "!pip install transformers"
      ],
      "execution_count": 29,
      "outputs": [
        {
          "output_type": "stream",
          "name": "stdout",
          "text": [
            "Requirement already satisfied: transformers in /usr/local/lib/python3.7/dist-packages (4.11.2)\n",
            "Requirement already satisfied: requests in /usr/local/lib/python3.7/dist-packages (from transformers) (2.23.0)\n",
            "Requirement already satisfied: tqdm>=4.27 in /usr/local/lib/python3.7/dist-packages (from transformers) (4.62.3)\n",
            "Requirement already satisfied: numpy>=1.17 in /usr/local/lib/python3.7/dist-packages (from transformers) (1.19.5)\n",
            "Requirement already satisfied: packaging>=20.0 in /usr/local/lib/python3.7/dist-packages (from transformers) (21.0)\n",
            "Requirement already satisfied: filelock in /usr/local/lib/python3.7/dist-packages (from transformers) (3.0.12)\n",
            "Requirement already satisfied: pyyaml>=5.1 in /usr/local/lib/python3.7/dist-packages (from transformers) (5.4.1)\n",
            "Requirement already satisfied: huggingface-hub>=0.0.17 in /usr/local/lib/python3.7/dist-packages (from transformers) (0.0.17)\n",
            "Requirement already satisfied: tokenizers<0.11,>=0.10.1 in /usr/local/lib/python3.7/dist-packages (from transformers) (0.10.3)\n",
            "Requirement already satisfied: importlib-metadata in /usr/local/lib/python3.7/dist-packages (from transformers) (4.8.1)\n",
            "Requirement already satisfied: regex!=2019.12.17 in /usr/local/lib/python3.7/dist-packages (from transformers) (2019.12.20)\n",
            "Requirement already satisfied: sacremoses in /usr/local/lib/python3.7/dist-packages (from transformers) (0.0.46)\n",
            "Requirement already satisfied: typing-extensions in /usr/local/lib/python3.7/dist-packages (from huggingface-hub>=0.0.17->transformers) (3.7.4.3)\n",
            "Requirement already satisfied: pyparsing>=2.0.2 in /usr/local/lib/python3.7/dist-packages (from packaging>=20.0->transformers) (2.4.7)\n",
            "Requirement already satisfied: zipp>=0.5 in /usr/local/lib/python3.7/dist-packages (from importlib-metadata->transformers) (3.5.0)\n",
            "Requirement already satisfied: certifi>=2017.4.17 in /usr/local/lib/python3.7/dist-packages (from requests->transformers) (2021.5.30)\n",
            "Requirement already satisfied: idna<3,>=2.5 in /usr/local/lib/python3.7/dist-packages (from requests->transformers) (2.10)\n",
            "Requirement already satisfied: chardet<4,>=3.0.2 in /usr/local/lib/python3.7/dist-packages (from requests->transformers) (3.0.4)\n",
            "Requirement already satisfied: urllib3!=1.25.0,!=1.25.1,<1.26,>=1.21.1 in /usr/local/lib/python3.7/dist-packages (from requests->transformers) (1.24.3)\n",
            "Requirement already satisfied: click in /usr/local/lib/python3.7/dist-packages (from sacremoses->transformers) (7.1.2)\n",
            "Requirement already satisfied: six in /usr/local/lib/python3.7/dist-packages (from sacremoses->transformers) (1.15.0)\n",
            "Requirement already satisfied: joblib in /usr/local/lib/python3.7/dist-packages (from sacremoses->transformers) (1.0.1)\n"
          ]
        }
      ]
    },
    {
      "cell_type": "code",
      "metadata": {
        "id": "rKYEeV2QcWxN"
      },
      "source": [
        "from transformers import XLNetTokenizerFast\n",
        "tokenizer = XLNetTokenizerFast.from_pretrained('xlnet-base-cased')"
      ],
      "execution_count": 30,
      "outputs": []
    },
    {
      "cell_type": "code",
      "metadata": {
        "id": "t3y3TqqkcX_D",
        "colab": {
          "base_uri": "https://localhost:8080/"
        },
        "outputId": "5903de7a-2a87-4b5f-c5b3-bf7888658493"
      },
      "source": [
        "train_encodings = tokenizer(xtrain, truncation=True, padding=True)\n",
        "test_encodings = tokenizer(xtest, truncation=True, padding=True)"
      ],
      "execution_count": 31,
      "outputs": [
        {
          "output_type": "stream",
          "name": "stderr",
          "text": [
            "Asking to truncate to max_length but no maximum length is provided and the model has no predefined maximum length. Default to no truncation.\n"
          ]
        }
      ]
    },
    {
      "cell_type": "code",
      "metadata": {
        "id": "sWWf_F8Z2972"
      },
      "source": [
        "import torch"
      ],
      "execution_count": 32,
      "outputs": []
    },
    {
      "cell_type": "code",
      "metadata": {
        "id": "UxQJy_Sh2sUI"
      },
      "source": [
        "class NewsGroupsDataset(torch.utils.data.Dataset):\n",
        "    def __init__(self, encodings, labels):\n",
        "        self.encodings = encodings\n",
        "        self.labels = labels\n",
        "\n",
        "    def __getitem__(self, idx):\n",
        "        item = {k: torch.tensor(v[idx]) for k, v in self.encodings.items()}\n",
        "        item[\"labels\"] = torch.tensor([self.labels[idx]])\n",
        "        return item\n",
        "\n",
        "    def __len__(self):\n",
        "        return len(self.labels)\n",
        "train_dataset = NewsGroupsDataset(train_encodings, ytrain)\n",
        "valid_dataset = NewsGroupsDataset(test_encodings, ytest)"
      ],
      "execution_count": 33,
      "outputs": []
    },
    {
      "cell_type": "code",
      "metadata": {
        "id": "3FVFAxupccn5"
      },
      "source": [
        "from sklearn.metrics import accuracy_score\n",
        "from sklearn.metrics import recall_score\n",
        "from sklearn.metrics import f1_score\n",
        "from sklearn.metrics import precision_score\n",
        "def compute_metrics(pred):\n",
        "  labels = pred.label_ids\n",
        "  preds = pred.predictions.argmax(-1)\n",
        "  # calculate accuracy using sklearn's function\n",
        "  acc = accuracy_score(labels, preds)\n",
        "  recall=recall_score(labels,preds)\n",
        "  precision1=precision_score(labels,preds)\n",
        "  f1score=f1_score(labels,preds)\n",
        "  return {\n",
        "      'accuracy': acc,\n",
        "      'recall': recall,\n",
        "      'f1-score':f1score,\n",
        "      'precision':precision1\n",
        "  }"
      ],
      "execution_count": 34,
      "outputs": []
    },
    {
      "cell_type": "code",
      "metadata": {
        "id": "ohWMPB1y3Sh7"
      },
      "source": [
        "from transformers import XLNetForSequenceClassification"
      ],
      "execution_count": 35,
      "outputs": []
    },
    {
      "cell_type": "code",
      "metadata": {
        "colab": {
          "base_uri": "https://localhost:8080/"
        },
        "id": "VBU4LL3H1tvK",
        "outputId": "be5dbe1c-9897-4432-cf08-dfa0d56d9736"
      },
      "source": [
        "model = XLNetForSequenceClassification.from_pretrained('xlnet-base-cased', num_labels=2)"
      ],
      "execution_count": 36,
      "outputs": [
        {
          "output_type": "stream",
          "name": "stderr",
          "text": [
            "Some weights of the model checkpoint at xlnet-base-cased were not used when initializing XLNetForSequenceClassification: ['lm_loss.bias', 'lm_loss.weight']\n",
            "- This IS expected if you are initializing XLNetForSequenceClassification from the checkpoint of a model trained on another task or with another architecture (e.g. initializing a BertForSequenceClassification model from a BertForPreTraining model).\n",
            "- This IS NOT expected if you are initializing XLNetForSequenceClassification from the checkpoint of a model that you expect to be exactly identical (initializing a BertForSequenceClassification model from a BertForSequenceClassification model).\n",
            "Some weights of XLNetForSequenceClassification were not initialized from the model checkpoint at xlnet-base-cased and are newly initialized: ['logits_proj.bias', 'logits_proj.weight', 'sequence_summary.summary.bias', 'sequence_summary.summary.weight']\n",
            "You should probably TRAIN this model on a down-stream task to be able to use it for predictions and inference.\n"
          ]
        }
      ]
    },
    {
      "cell_type": "code",
      "metadata": {
        "id": "IQP5B6X63k6A"
      },
      "source": [
        "from transformers import TrainingArguments"
      ],
      "execution_count": 37,
      "outputs": []
    },
    {
      "cell_type": "code",
      "metadata": {
        "id": "qzWg-oXA3o27"
      },
      "source": [
        "from transformers import Trainer"
      ],
      "execution_count": 38,
      "outputs": []
    },
    {
      "cell_type": "code",
      "metadata": {
        "id": "yMZ3fo1CiqIk"
      },
      "source": [
        "training_args = TrainingArguments(\n",
        "    output_dir='./results',          # output directory\n",
        "    num_train_epochs=50,              # total number of training epochs\n",
        "    per_device_train_batch_size=16,  # batch size per device during training\n",
        "    per_device_eval_batch_size=20,   # batch size for evaluation\n",
        "    warmup_steps=500,                # number of warmup steps for learning rate scheduler\n",
        "    weight_decay=0.01,               # strength of weight decay\n",
        "    logging_dir='./logs',            # directory for storing logs\n",
        "    load_best_model_at_end=True,     # load the best model when finished training (default metric is loss)\n",
        "    # but you can specify `metric_for_best_model` argument to change to accuracy or other metric\n",
        "    logging_steps=500,               # log & save weights each logging_steps\n",
        "    evaluation_strategy=\"steps\",     # evaluate each `logging_steps`\n",
        ")"
      ],
      "execution_count": 39,
      "outputs": []
    },
    {
      "cell_type": "code",
      "metadata": {
        "colab": {
          "base_uri": "https://localhost:8080/",
          "height": 321
        },
        "id": "qFI9v3wXkbN1",
        "outputId": "1219e829-e94a-407a-db78-9340eeab39a3"
      },
      "source": [
        "trainer = Trainer(\n",
        "    model=model,                         # the instantiated Transformers model to be trained\n",
        "    args=training_args,                  # training arguments, defined above\n",
        "    train_dataset=train_dataset,         # training dataset\n",
        "    eval_dataset=valid_dataset,          # evaluation dataset\n",
        "    compute_metrics=compute_metrics,     # the callback that computes metrics of interest\n",
        ")\n",
        "trainer.train()"
      ],
      "execution_count": 40,
      "outputs": [
        {
          "output_type": "stream",
          "name": "stderr",
          "text": [
            "***** Running training *****\n",
            "  Num examples = 135\n",
            "  Num Epochs = 50\n",
            "  Instantaneous batch size per device = 16\n",
            "  Total train batch size (w. parallel, distributed & accumulation) = 16\n",
            "  Gradient Accumulation steps = 1\n",
            "  Total optimization steps = 450\n"
          ]
        },
        {
          "output_type": "display_data",
          "data": {
            "text/html": [
              "\n",
              "    <div>\n",
              "      \n",
              "      <progress value='450' max='450' style='width:300px; height:20px; vertical-align: middle;'></progress>\n",
              "      [450/450 03:33, Epoch 50/50]\n",
              "    </div>\n",
              "    <table border=\"1\" class=\"dataframe\">\n",
              "  <thead>\n",
              "    <tr style=\"text-align: left;\">\n",
              "      <th>Step</th>\n",
              "      <th>Training Loss</th>\n",
              "      <th>Validation Loss</th>\n",
              "    </tr>\n",
              "  </thead>\n",
              "  <tbody>\n",
              "  </tbody>\n",
              "</table><p>"
            ],
            "text/plain": [
              "<IPython.core.display.HTML object>"
            ]
          },
          "metadata": {}
        },
        {
          "output_type": "stream",
          "name": "stderr",
          "text": [
            "\n",
            "\n",
            "Training completed. Do not forget to share your model on huggingface.co/models =)\n",
            "\n",
            "\n"
          ]
        },
        {
          "output_type": "execute_result",
          "data": {
            "text/plain": [
              "TrainOutput(global_step=450, training_loss=0.1266707526312934, metrics={'train_runtime': 214.4726, 'train_samples_per_second': 31.473, 'train_steps_per_second': 2.098, 'total_flos': 232856244126000.0, 'train_loss': 0.1266707526312934, 'epoch': 50.0})"
            ]
          },
          "metadata": {},
          "execution_count": 40
        }
      ]
    },
    {
      "cell_type": "code",
      "metadata": {
        "id": "0MJ-lADokd_j",
        "colab": {
          "base_uri": "https://localhost:8080/",
          "height": 245
        },
        "outputId": "1cdff725-bad5-476c-8ce6-52afc59135b9"
      },
      "source": [
        "trainer.evaluate()"
      ],
      "execution_count": 41,
      "outputs": [
        {
          "output_type": "stream",
          "name": "stderr",
          "text": [
            "***** Running Evaluation *****\n",
            "  Num examples = 15\n",
            "  Batch size = 20\n"
          ]
        },
        {
          "output_type": "display_data",
          "data": {
            "text/html": [
              "\n",
              "    <div>\n",
              "      \n",
              "      <progress value='1' max='1' style='width:300px; height:20px; vertical-align: middle;'></progress>\n",
              "      [1/1 : < :]\n",
              "    </div>\n",
              "    "
            ],
            "text/plain": [
              "<IPython.core.display.HTML object>"
            ]
          },
          "metadata": {}
        },
        {
          "output_type": "execute_result",
          "data": {
            "text/plain": [
              "{'epoch': 50.0,\n",
              " 'eval_accuracy': 0.8666666666666667,\n",
              " 'eval_f1-score': 0.8571428571428571,\n",
              " 'eval_loss': 1.4190120697021484,\n",
              " 'eval_precision': 0.8571428571428571,\n",
              " 'eval_recall': 0.8571428571428571,\n",
              " 'eval_runtime': 0.1526,\n",
              " 'eval_samples_per_second': 98.307,\n",
              " 'eval_steps_per_second': 6.554}"
            ]
          },
          "metadata": {},
          "execution_count": 41
        }
      ]
    },
    {
      "cell_type": "code",
      "metadata": {
        "id": "CpviV4Ah51ad"
      },
      "source": [
        "def get_prediction(text):\n",
        "    # prepare our text into tokenized sequence\n",
        "    inputs = tokenizer(text, padding=True, truncation=True, max_length=max_length, return_tensors=\"pt\").to(\"cuda\")\n",
        "    # perform inference to our model\n",
        "    outputs = model(**inputs)\n",
        "    # get output probabilities by doing softmax\n",
        "    probs = outputs[0].softmax(1)\n",
        "    # executing argmax function to get the candidate label\n",
        "    return target_names[probs.argmax()]"
      ],
      "execution_count": 42,
      "outputs": []
    },
    {
      "cell_type": "code",
      "metadata": {
        "id": "3rh2Kyye8BoC"
      },
      "source": [
        ""
      ],
      "execution_count": 42,
      "outputs": []
    }
  ]
}